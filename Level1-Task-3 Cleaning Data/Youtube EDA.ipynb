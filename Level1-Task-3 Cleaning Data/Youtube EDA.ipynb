{
 "cells": [
  {
   "cell_type": "markdown",
   "id": "a6e704c9",
   "metadata": {},
   "source": [
    " ##### <div style=\"color:white;background-color:lightblue;padding:3%;border-radius:150px 150px;font-size:2em;text-align:center\">Youtube EDA</div>"
   ]
  },
  {
   "cell_type": "markdown",
   "id": "cf6896d5",
   "metadata": {},
   "source": [
    "**IMPORT LIBRARIES**"
   ]
  },
  {
   "cell_type": "code",
   "execution_count": 1,
   "id": "70e04962",
   "metadata": {
    "_cell_guid": "b1076dfc-b9ad-4769-8c92-a6c4dae69d19",
    "_uuid": "8f2839f25d086af736a60e9eeb907d3b93b6e0e5",
    "execution": {
     "iopub.execute_input": "2023-11-18T20:02:16.697798Z",
     "iopub.status.busy": "2023-11-18T20:02:16.696791Z",
     "iopub.status.idle": "2023-11-18T20:02:16.721152Z",
     "shell.execute_reply": "2023-11-18T20:02:16.720075Z"
    },
    "papermill": {
     "duration": 0.039619,
     "end_time": "2023-11-18T20:02:16.723433",
     "exception": false,
     "start_time": "2023-11-18T20:02:16.683814",
     "status": "completed"
    },
    "tags": []
   },
   "outputs": [],
   "source": [
    "import pandas as pd\n",
    "import os\n",
    "import warnings\n",
    "warnings.filterwarnings('ignore')\n",
    "folder_path = 'E:/Intern Dataset/'\n",
    "all_dataframes = []\n",
    "for filename in os.listdir(folder_path):\n",
    "    if filename.endswith('.csv'):\n",
    "        file_path = os.path.join(folder_path, filename)\n",
    "        try:\n",
    "            df = pd.read_csv(file_path, encoding='utf-8')\n",
    "        except UnicodeDecodeError:\n",
    "            df = pd.read_csv(file_path, encoding='ISO-8859-1')\n",
    "        all_dataframes.append(df)"
   ]
  },
  {
   "cell_type": "code",
   "execution_count": 2,
   "id": "fb3ecd3b",
   "metadata": {
    "execution": {
     "iopub.execute_input": "2023-11-18T20:02:16.766145Z",
     "iopub.status.busy": "2023-11-18T20:02:16.765223Z",
     "iopub.status.idle": "2023-11-18T20:02:16.773903Z",
     "shell.execute_reply": "2023-11-18T20:02:16.772022Z"
    },
    "papermill": {
     "duration": 0.024275,
     "end_time": "2023-11-18T20:02:16.776790",
     "exception": false,
     "start_time": "2023-11-18T20:02:16.752515",
     "status": "completed"
    },
    "tags": []
   },
   "outputs": [],
   "source": [
    "import glob\n",
    "import os\n",
    "path = \"E:/Intern Dataset/\"\n",
    "csv_files = glob.glob(os.path.join(path, \"*.csv\"))\n",
    "json_files = glob.glob(os.path.join(path, \"*.json\"))"
   ]
  },
  {
   "cell_type": "code",
   "execution_count": 3,
   "id": "e8cfe9ae",
   "metadata": {
    "execution": {
     "iopub.execute_input": "2023-11-18T20:02:16.801468Z",
     "iopub.status.busy": "2023-11-18T20:02:16.799989Z",
     "iopub.status.idle": "2023-11-18T20:02:16.809547Z",
     "shell.execute_reply": "2023-11-18T20:02:16.808054Z"
    },
    "papermill": {
     "duration": 0.026843,
     "end_time": "2023-11-18T20:02:16.812913",
     "exception": false,
     "start_time": "2023-11-18T20:02:16.786070",
     "status": "completed"
    },
    "tags": []
   },
   "outputs": [],
   "source": [
    "def Concatenator(files):\n",
    "    data_frames = []\n",
    "    data_columns = []\n",
    "    for df in files:\n",
    "        data = pd.read_csv(df, encoding = 'ISO-8859-1') \n",
    "        file_name = df.split(\"\\\\\")[-1]\n",
    "        data['country'] = \"\".join([c for c in file_name if c.isupper() == True])\n",
    "        data_frames.append(data)\n",
    "        data_columns.append(data.shape[1])\n",
    "    if len(set(data_columns)) == 1: \n",
    "        result = pd.concat(data_frames, ignore_index = True)\n",
    "        return result\n",
    "    else:\n",
    "        print(\"Columns counts are not equal!\")"
   ]
  },
  {
   "cell_type": "code",
   "execution_count": 4,
   "id": "810a5d2f",
   "metadata": {
    "execution": {
     "iopub.execute_input": "2023-11-18T20:02:16.837814Z",
     "iopub.status.busy": "2023-11-18T20:02:16.836897Z",
     "iopub.status.idle": "2023-11-18T20:02:30.674248Z",
     "shell.execute_reply": "2023-11-18T20:02:30.673225Z"
    },
    "papermill": {
     "duration": 13.852791,
     "end_time": "2023-11-18T20:02:30.676686",
     "exception": false,
     "start_time": "2023-11-18T20:02:16.823895",
     "status": "completed"
    },
    "tags": []
   },
   "outputs": [],
   "source": [
    "all_data = Concatenator(csv_files)"
   ]
  },
  {
   "cell_type": "code",
   "execution_count": 5,
   "id": "6341184c",
   "metadata": {
    "execution": {
     "iopub.execute_input": "2023-11-18T20:02:30.695379Z",
     "iopub.status.busy": "2023-11-18T20:02:30.694929Z",
     "iopub.status.idle": "2023-11-18T20:02:30.725613Z",
     "shell.execute_reply": "2023-11-18T20:02:30.724373Z"
    },
    "papermill": {
     "duration": 0.042431,
     "end_time": "2023-11-18T20:02:30.727730",
     "exception": false,
     "start_time": "2023-11-18T20:02:30.685299",
     "status": "completed"
    },
    "tags": []
   },
   "outputs": [
    {
     "data": {
      "text/html": [
       "<div>\n",
       "<style scoped>\n",
       "    .dataframe tbody tr th:only-of-type {\n",
       "        vertical-align: middle;\n",
       "    }\n",
       "\n",
       "    .dataframe tbody tr th {\n",
       "        vertical-align: top;\n",
       "    }\n",
       "\n",
       "    .dataframe thead th {\n",
       "        text-align: right;\n",
       "    }\n",
       "</style>\n",
       "<table border=\"1\" class=\"dataframe\">\n",
       "  <thead>\n",
       "    <tr style=\"text-align: right;\">\n",
       "      <th></th>\n",
       "      <th>video_id</th>\n",
       "      <th>trending_date</th>\n",
       "      <th>title</th>\n",
       "      <th>channel_title</th>\n",
       "      <th>category_id</th>\n",
       "      <th>publish_time</th>\n",
       "      <th>tags</th>\n",
       "      <th>views</th>\n",
       "      <th>likes</th>\n",
       "      <th>dislikes</th>\n",
       "      <th>comment_count</th>\n",
       "      <th>thumbnail_link</th>\n",
       "      <th>comments_disabled</th>\n",
       "      <th>ratings_disabled</th>\n",
       "      <th>video_error_or_removed</th>\n",
       "      <th>description</th>\n",
       "      <th>country</th>\n",
       "    </tr>\n",
       "  </thead>\n",
       "  <tbody>\n",
       "    <tr>\n",
       "      <th>0</th>\n",
       "      <td>n1WpP7iowLc</td>\n",
       "      <td>17.14.11</td>\n",
       "      <td>Eminem - Walk On Water (Audio) ft. BeyoncÃ©</td>\n",
       "      <td>EminemVEVO</td>\n",
       "      <td>10</td>\n",
       "      <td>2017-11-10T17:00:03.000Z</td>\n",
       "      <td>Eminem|\"Walk\"|\"On\"|\"Water\"|\"Aftermath/Shady/In...</td>\n",
       "      <td>17158579</td>\n",
       "      <td>787425</td>\n",
       "      <td>43420</td>\n",
       "      <td>125882</td>\n",
       "      <td>https://i.ytimg.com/vi/n1WpP7iowLc/default.jpg</td>\n",
       "      <td>False</td>\n",
       "      <td>False</td>\n",
       "      <td>False</td>\n",
       "      <td>Eminem's new track Walk on Water ft. BeyoncÃ© ...</td>\n",
       "      <td>CA</td>\n",
       "    </tr>\n",
       "    <tr>\n",
       "      <th>1</th>\n",
       "      <td>0dBIkQ4Mz1M</td>\n",
       "      <td>17.14.11</td>\n",
       "      <td>PLUSH - Bad Unboxing Fan Mail</td>\n",
       "      <td>iDubbbzTV</td>\n",
       "      <td>23</td>\n",
       "      <td>2017-11-13T17:00:00.000Z</td>\n",
       "      <td>plush|\"bad unboxing\"|\"unboxing\"|\"fan mail\"|\"id...</td>\n",
       "      <td>1014651</td>\n",
       "      <td>127794</td>\n",
       "      <td>1688</td>\n",
       "      <td>13030</td>\n",
       "      <td>https://i.ytimg.com/vi/0dBIkQ4Mz1M/default.jpg</td>\n",
       "      <td>False</td>\n",
       "      <td>False</td>\n",
       "      <td>False</td>\n",
       "      <td>STill got a lot of packages. Probably will las...</td>\n",
       "      <td>CA</td>\n",
       "    </tr>\n",
       "    <tr>\n",
       "      <th>2</th>\n",
       "      <td>5qpjK5DgCt4</td>\n",
       "      <td>17.14.11</td>\n",
       "      <td>Racist Superman | Rudy Mancuso, King Bach &amp; Le...</td>\n",
       "      <td>Rudy Mancuso</td>\n",
       "      <td>23</td>\n",
       "      <td>2017-11-12T19:05:24.000Z</td>\n",
       "      <td>racist superman|\"rudy\"|\"mancuso\"|\"king\"|\"bach\"...</td>\n",
       "      <td>3191434</td>\n",
       "      <td>146035</td>\n",
       "      <td>5339</td>\n",
       "      <td>8181</td>\n",
       "      <td>https://i.ytimg.com/vi/5qpjK5DgCt4/default.jpg</td>\n",
       "      <td>False</td>\n",
       "      <td>False</td>\n",
       "      <td>False</td>\n",
       "      <td>WATCH MY PREVIOUS VIDEO â¶ \\n\\nSUBSCRIBE âº ...</td>\n",
       "      <td>CA</td>\n",
       "    </tr>\n",
       "    <tr>\n",
       "      <th>3</th>\n",
       "      <td>d380meD0W0M</td>\n",
       "      <td>17.14.11</td>\n",
       "      <td>I Dare You: GOING BALD!?</td>\n",
       "      <td>nigahiga</td>\n",
       "      <td>24</td>\n",
       "      <td>2017-11-12T18:01:41.000Z</td>\n",
       "      <td>ryan|\"higa\"|\"higatv\"|\"nigahiga\"|\"i dare you\"|\"...</td>\n",
       "      <td>2095828</td>\n",
       "      <td>132239</td>\n",
       "      <td>1989</td>\n",
       "      <td>17518</td>\n",
       "      <td>https://i.ytimg.com/vi/d380meD0W0M/default.jpg</td>\n",
       "      <td>False</td>\n",
       "      <td>False</td>\n",
       "      <td>False</td>\n",
       "      <td>I know it's been a while since we did this sho...</td>\n",
       "      <td>CA</td>\n",
       "    </tr>\n",
       "    <tr>\n",
       "      <th>4</th>\n",
       "      <td>2Vv-BfVoq4g</td>\n",
       "      <td>17.14.11</td>\n",
       "      <td>Ed Sheeran - Perfect (Official Music Video)</td>\n",
       "      <td>Ed Sheeran</td>\n",
       "      <td>10</td>\n",
       "      <td>2017-11-09T11:04:14.000Z</td>\n",
       "      <td>edsheeran|\"ed sheeran\"|\"acoustic\"|\"live\"|\"cove...</td>\n",
       "      <td>33523622</td>\n",
       "      <td>1634130</td>\n",
       "      <td>21082</td>\n",
       "      <td>85067</td>\n",
       "      <td>https://i.ytimg.com/vi/2Vv-BfVoq4g/default.jpg</td>\n",
       "      <td>False</td>\n",
       "      <td>False</td>\n",
       "      <td>False</td>\n",
       "      <td>ð§: https://ad.gt/yt-perfect\\nð°: https://...</td>\n",
       "      <td>CA</td>\n",
       "    </tr>\n",
       "  </tbody>\n",
       "</table>\n",
       "</div>"
      ],
      "text/plain": [
       "      video_id trending_date  \\\n",
       "0  n1WpP7iowLc      17.14.11   \n",
       "1  0dBIkQ4Mz1M      17.14.11   \n",
       "2  5qpjK5DgCt4      17.14.11   \n",
       "3  d380meD0W0M      17.14.11   \n",
       "4  2Vv-BfVoq4g      17.14.11   \n",
       "\n",
       "                                               title channel_title  \\\n",
       "0        Eminem - Walk On Water (Audio) ft. BeyoncÃ©    EminemVEVO   \n",
       "1                      PLUSH - Bad Unboxing Fan Mail     iDubbbzTV   \n",
       "2  Racist Superman | Rudy Mancuso, King Bach & Le...  Rudy Mancuso   \n",
       "3                           I Dare You: GOING BALD!?      nigahiga   \n",
       "4        Ed Sheeran - Perfect (Official Music Video)    Ed Sheeran   \n",
       "\n",
       "   category_id              publish_time  \\\n",
       "0           10  2017-11-10T17:00:03.000Z   \n",
       "1           23  2017-11-13T17:00:00.000Z   \n",
       "2           23  2017-11-12T19:05:24.000Z   \n",
       "3           24  2017-11-12T18:01:41.000Z   \n",
       "4           10  2017-11-09T11:04:14.000Z   \n",
       "\n",
       "                                                tags     views    likes  \\\n",
       "0  Eminem|\"Walk\"|\"On\"|\"Water\"|\"Aftermath/Shady/In...  17158579   787425   \n",
       "1  plush|\"bad unboxing\"|\"unboxing\"|\"fan mail\"|\"id...   1014651   127794   \n",
       "2  racist superman|\"rudy\"|\"mancuso\"|\"king\"|\"bach\"...   3191434   146035   \n",
       "3  ryan|\"higa\"|\"higatv\"|\"nigahiga\"|\"i dare you\"|\"...   2095828   132239   \n",
       "4  edsheeran|\"ed sheeran\"|\"acoustic\"|\"live\"|\"cove...  33523622  1634130   \n",
       "\n",
       "   dislikes  comment_count                                  thumbnail_link  \\\n",
       "0     43420         125882  https://i.ytimg.com/vi/n1WpP7iowLc/default.jpg   \n",
       "1      1688          13030  https://i.ytimg.com/vi/0dBIkQ4Mz1M/default.jpg   \n",
       "2      5339           8181  https://i.ytimg.com/vi/5qpjK5DgCt4/default.jpg   \n",
       "3      1989          17518  https://i.ytimg.com/vi/d380meD0W0M/default.jpg   \n",
       "4     21082          85067  https://i.ytimg.com/vi/2Vv-BfVoq4g/default.jpg   \n",
       "\n",
       "   comments_disabled  ratings_disabled  video_error_or_removed  \\\n",
       "0              False             False                   False   \n",
       "1              False             False                   False   \n",
       "2              False             False                   False   \n",
       "3              False             False                   False   \n",
       "4              False             False                   False   \n",
       "\n",
       "                                         description country  \n",
       "0  Eminem's new track Walk on Water ft. BeyoncÃ© ...      CA  \n",
       "1  STill got a lot of packages. Probably will las...      CA  \n",
       "2  WATCH MY PREVIOUS VIDEO â¶ \\n\\nSUBSCRIBE âº ...      CA  \n",
       "3  I know it's been a while since we did this sho...      CA  \n",
       "4  ð§: https://ad.gt/yt-perfect\\nð°: https://...      CA  "
      ]
     },
     "execution_count": 5,
     "metadata": {},
     "output_type": "execute_result"
    }
   ],
   "source": [
    "all_data.head()"
   ]
  },
  {
   "cell_type": "markdown",
   "id": "4ff32683",
   "metadata": {
    "papermill": {
     "duration": 0.008642,
     "end_time": "2023-11-18T20:02:30.745205",
     "exception": false,
     "start_time": "2023-11-18T20:02:30.736563",
     "status": "completed"
    },
    "tags": []
   },
   "source": [
    "Channel categories are presented as ID and that is not informative. Let's get categories from json files and map them by ID in main data."
   ]
  },
  {
   "cell_type": "markdown",
   "id": "6a956135",
   "metadata": {},
   "source": [
    "**DATA CLEANING**"
   ]
  },
  {
   "cell_type": "code",
   "execution_count": 6,
   "id": "dbce3d8b",
   "metadata": {
    "execution": {
     "iopub.execute_input": "2023-11-18T20:02:30.765384Z",
     "iopub.status.busy": "2023-11-18T20:02:30.764445Z",
     "iopub.status.idle": "2023-11-18T20:02:30.771257Z",
     "shell.execute_reply": "2023-11-18T20:02:30.770137Z"
    },
    "papermill": {
     "duration": 0.019053,
     "end_time": "2023-11-18T20:02:30.773155",
     "exception": false,
     "start_time": "2023-11-18T20:02:30.754102",
     "status": "completed"
    },
    "tags": []
   },
   "outputs": [],
   "source": [
    "def Get_Categories(json_files):\n",
    "    categories_dict = {}\n",
    "    for file in json_files:\n",
    "        json_file = pd.read_json(file)\n",
    "        for item in json_file['items']:\n",
    "            categories_dict[item['id']] = item['snippet']['title']\n",
    "    return categories_dict"
   ]
  },
  {
   "cell_type": "code",
   "execution_count": 7,
   "id": "f9d9010e",
   "metadata": {
    "execution": {
     "iopub.execute_input": "2023-11-18T20:02:30.793025Z",
     "iopub.status.busy": "2023-11-18T20:02:30.792457Z",
     "iopub.status.idle": "2023-11-18T20:02:30.909490Z",
     "shell.execute_reply": "2023-11-18T20:02:30.908734Z"
    },
    "papermill": {
     "duration": 0.129661,
     "end_time": "2023-11-18T20:02:30.911710",
     "exception": false,
     "start_time": "2023-11-18T20:02:30.782049",
     "status": "completed"
    },
    "tags": []
   },
   "outputs": [],
   "source": [
    "categories_dict = Get_Categories(json_files)"
   ]
  },
  {
   "cell_type": "code",
   "execution_count": 8,
   "id": "f850be89",
   "metadata": {
    "execution": {
     "iopub.execute_input": "2023-11-18T20:02:30.931563Z",
     "iopub.status.busy": "2023-11-18T20:02:30.931070Z",
     "iopub.status.idle": "2023-11-18T20:02:31.114568Z",
     "shell.execute_reply": "2023-11-18T20:02:31.112987Z"
    },
    "papermill": {
     "duration": 0.196343,
     "end_time": "2023-11-18T20:02:31.117035",
     "exception": false,
     "start_time": "2023-11-18T20:02:30.920692",
     "status": "completed"
    },
    "tags": []
   },
   "outputs": [],
   "source": [
    "all_data['category_id'] = all_data['category_id'].astype(str)\n",
    "all_data['category'] = all_data['category_id'].map(categories_dict)"
   ]
  },
  {
   "cell_type": "code",
   "execution_count": 9,
   "id": "b5a8a198",
   "metadata": {
    "execution": {
     "iopub.execute_input": "2023-11-18T20:02:31.136403Z",
     "iopub.status.busy": "2023-11-18T20:02:31.136025Z",
     "iopub.status.idle": "2023-11-18T20:02:31.515712Z",
     "shell.execute_reply": "2023-11-18T20:02:31.514505Z"
    },
    "papermill": {
     "duration": 0.392427,
     "end_time": "2023-11-18T20:02:31.518346",
     "exception": false,
     "start_time": "2023-11-18T20:02:31.125919",
     "status": "completed"
    },
    "tags": []
   },
   "outputs": [],
   "source": [
    "all_data['publish_time'] = pd.to_datetime(all_data['publish_time'])\n",
    "all_data['publish_date'] = all_data['publish_time'].dt.date\n",
    "all_data['trending_date'] = pd.to_datetime(all_data['trending_date'], format = \"%y.%d.%m\")"
   ]
  },
  {
   "cell_type": "code",
   "execution_count": 10,
   "id": "060aab09",
   "metadata": {
    "execution": {
     "iopub.execute_input": "2023-11-18T20:02:31.537899Z",
     "iopub.status.busy": "2023-11-18T20:02:31.537524Z",
     "iopub.status.idle": "2023-11-18T20:02:48.972649Z",
     "shell.execute_reply": "2023-11-18T20:02:48.971666Z"
    },
    "papermill": {
     "duration": 17.447421,
     "end_time": "2023-11-18T20:02:48.974843",
     "exception": false,
     "start_time": "2023-11-18T20:02:31.527422",
     "status": "completed"
    },
    "tags": []
   },
   "outputs": [],
   "source": [
    "idx_rows = all_data.groupby(['country', 'video_id'])['trending_date'].idxmax()\n",
    "all_data = all_data.loc[idx_rows]"
   ]
  },
  {
   "cell_type": "markdown",
   "id": "161f8a57",
   "metadata": {
    "papermill": {
     "duration": 0.008577,
     "end_time": "2023-11-18T20:02:48.992084",
     "exception": false,
     "start_time": "2023-11-18T20:02:48.983507",
     "status": "completed"
    },
    "tags": []
   },
   "source": [
    "**EXPLORATORY DATA ANALYSIS**"
   ]
  },
  {
   "cell_type": "code",
   "execution_count": 11,
   "id": "1485f7ef",
   "metadata": {
    "execution": {
     "iopub.execute_input": "2023-11-18T20:02:49.012106Z",
     "iopub.status.busy": "2023-11-18T20:02:49.011592Z",
     "iopub.status.idle": "2023-11-18T20:02:49.018092Z",
     "shell.execute_reply": "2023-11-18T20:02:49.016430Z"
    },
    "papermill": {
     "duration": 0.019117,
     "end_time": "2023-11-18T20:02:49.020531",
     "exception": false,
     "start_time": "2023-11-18T20:02:49.001414",
     "status": "completed"
    },
    "tags": []
   },
   "outputs": [
    {
     "data": {
      "text/plain": [
       "(207148, 19)"
      ]
     },
     "execution_count": 11,
     "metadata": {},
     "output_type": "execute_result"
    }
   ],
   "source": [
    "all_data.shape"
   ]
  },
  {
   "cell_type": "code",
   "execution_count": 12,
   "id": "4cf1d4aa",
   "metadata": {
    "execution": {
     "iopub.execute_input": "2023-11-18T20:02:49.040573Z",
     "iopub.status.busy": "2023-11-18T20:02:49.040238Z",
     "iopub.status.idle": "2023-11-18T20:02:49.481948Z",
     "shell.execute_reply": "2023-11-18T20:02:49.481012Z"
    },
    "papermill": {
     "duration": 0.454507,
     "end_time": "2023-11-18T20:02:49.484235",
     "exception": false,
     "start_time": "2023-11-18T20:02:49.029728",
     "status": "completed"
    },
    "tags": []
   },
   "outputs": [
    {
     "name": "stdout",
     "output_type": "stream",
     "text": [
      "<class 'pandas.core.frame.DataFrame'>\n",
      "Index: 207148 entries, 40319 to 351552\n",
      "Data columns (total 19 columns):\n",
      " #   Column                  Non-Null Count   Dtype              \n",
      "---  ------                  --------------   -----              \n",
      " 0   video_id                207148 non-null  object             \n",
      " 1   trending_date           207148 non-null  datetime64[ns]     \n",
      " 2   title                   207148 non-null  object             \n",
      " 3   channel_title           207148 non-null  object             \n",
      " 4   category_id             207148 non-null  object             \n",
      " 5   publish_time            207148 non-null  datetime64[ns, UTC]\n",
      " 6   tags                    207148 non-null  object             \n",
      " 7   views                   207148 non-null  int64              \n",
      " 8   likes                   207148 non-null  int64              \n",
      " 9   dislikes                207148 non-null  int64              \n",
      " 10  comment_count           207148 non-null  int64              \n",
      " 11  thumbnail_link          207148 non-null  object             \n",
      " 12  comments_disabled       207148 non-null  bool               \n",
      " 13  ratings_disabled        207148 non-null  bool               \n",
      " 14  video_error_or_removed  207148 non-null  bool               \n",
      " 15  description             193274 non-null  object             \n",
      " 16  country                 207148 non-null  object             \n",
      " 17  category                207148 non-null  object             \n",
      " 18  publish_date            207148 non-null  object             \n",
      "dtypes: bool(3), datetime64[ns, UTC](1), datetime64[ns](1), int64(4), object(10)\n",
      "memory usage: 27.5+ MB\n"
     ]
    }
   ],
   "source": [
    "all_data.info()"
   ]
  },
  {
   "cell_type": "code",
   "execution_count": 13,
   "id": "622762dd",
   "metadata": {
    "execution": {
     "iopub.execute_input": "2023-11-18T20:02:49.504282Z",
     "iopub.status.busy": "2023-11-18T20:02:49.503682Z",
     "iopub.status.idle": "2023-11-18T20:02:49.545459Z",
     "shell.execute_reply": "2023-11-18T20:02:49.543782Z"
    },
    "papermill": {
     "duration": 0.054302,
     "end_time": "2023-11-18T20:02:49.547691",
     "exception": false,
     "start_time": "2023-11-18T20:02:49.493389",
     "status": "completed"
    },
    "tags": []
   },
   "outputs": [
    {
     "data": {
      "text/html": [
       "<div>\n",
       "<style scoped>\n",
       "    .dataframe tbody tr th:only-of-type {\n",
       "        vertical-align: middle;\n",
       "    }\n",
       "\n",
       "    .dataframe tbody tr th {\n",
       "        vertical-align: top;\n",
       "    }\n",
       "\n",
       "    .dataframe thead th {\n",
       "        text-align: right;\n",
       "    }\n",
       "</style>\n",
       "<table border=\"1\" class=\"dataframe\">\n",
       "  <thead>\n",
       "    <tr style=\"text-align: right;\">\n",
       "      <th></th>\n",
       "      <th>trending_date</th>\n",
       "      <th>views</th>\n",
       "      <th>likes</th>\n",
       "      <th>dislikes</th>\n",
       "      <th>comment_count</th>\n",
       "    </tr>\n",
       "  </thead>\n",
       "  <tbody>\n",
       "    <tr>\n",
       "      <th>count</th>\n",
       "      <td>207148</td>\n",
       "      <td>2.071480e+05</td>\n",
       "      <td>2.071480e+05</td>\n",
       "      <td>2.071480e+05</td>\n",
       "      <td>2.071480e+05</td>\n",
       "    </tr>\n",
       "    <tr>\n",
       "      <th>mean</th>\n",
       "      <td>2018-02-28 11:38:00.734546688</td>\n",
       "      <td>5.298051e+05</td>\n",
       "      <td>1.622226e+04</td>\n",
       "      <td>9.786640e+02</td>\n",
       "      <td>2.021121e+03</td>\n",
       "    </tr>\n",
       "    <tr>\n",
       "      <th>min</th>\n",
       "      <td>2017-11-14 00:00:00</td>\n",
       "      <td>1.530000e+02</td>\n",
       "      <td>0.000000e+00</td>\n",
       "      <td>0.000000e+00</td>\n",
       "      <td>0.000000e+00</td>\n",
       "    </tr>\n",
       "    <tr>\n",
       "      <th>25%</th>\n",
       "      <td>2018-01-06 00:00:00</td>\n",
       "      <td>2.531800e+04</td>\n",
       "      <td>3.670000e+02</td>\n",
       "      <td>2.200000e+01</td>\n",
       "      <td>5.800000e+01</td>\n",
       "    </tr>\n",
       "    <tr>\n",
       "      <th>50%</th>\n",
       "      <td>2018-02-28 00:00:00</td>\n",
       "      <td>9.165400e+04</td>\n",
       "      <td>1.696000e+03</td>\n",
       "      <td>9.300000e+01</td>\n",
       "      <td>2.660000e+02</td>\n",
       "    </tr>\n",
       "    <tr>\n",
       "      <th>75%</th>\n",
       "      <td>2018-04-24 00:00:00</td>\n",
       "      <td>3.216335e+05</td>\n",
       "      <td>7.360000e+03</td>\n",
       "      <td>3.690000e+02</td>\n",
       "      <td>1.028000e+03</td>\n",
       "    </tr>\n",
       "    <tr>\n",
       "      <th>max</th>\n",
       "      <td>2018-06-14 00:00:00</td>\n",
       "      <td>4.245389e+08</td>\n",
       "      <td>5.613827e+06</td>\n",
       "      <td>1.944971e+06</td>\n",
       "      <td>1.626501e+06</td>\n",
       "    </tr>\n",
       "    <tr>\n",
       "      <th>std</th>\n",
       "      <td>NaN</td>\n",
       "      <td>3.274338e+06</td>\n",
       "      <td>8.865994e+04</td>\n",
       "      <td>1.280412e+04</td>\n",
       "      <td>1.445006e+04</td>\n",
       "    </tr>\n",
       "  </tbody>\n",
       "</table>\n",
       "</div>"
      ],
      "text/plain": [
       "                       trending_date         views         likes  \\\n",
       "count                         207148  2.071480e+05  2.071480e+05   \n",
       "mean   2018-02-28 11:38:00.734546688  5.298051e+05  1.622226e+04   \n",
       "min              2017-11-14 00:00:00  1.530000e+02  0.000000e+00   \n",
       "25%              2018-01-06 00:00:00  2.531800e+04  3.670000e+02   \n",
       "50%              2018-02-28 00:00:00  9.165400e+04  1.696000e+03   \n",
       "75%              2018-04-24 00:00:00  3.216335e+05  7.360000e+03   \n",
       "max              2018-06-14 00:00:00  4.245389e+08  5.613827e+06   \n",
       "std                              NaN  3.274338e+06  8.865994e+04   \n",
       "\n",
       "           dislikes  comment_count  \n",
       "count  2.071480e+05   2.071480e+05  \n",
       "mean   9.786640e+02   2.021121e+03  \n",
       "min    0.000000e+00   0.000000e+00  \n",
       "25%    2.200000e+01   5.800000e+01  \n",
       "50%    9.300000e+01   2.660000e+02  \n",
       "75%    3.690000e+02   1.028000e+03  \n",
       "max    1.944971e+06   1.626501e+06  \n",
       "std    1.280412e+04   1.445006e+04  "
      ]
     },
     "execution_count": 13,
     "metadata": {},
     "output_type": "execute_result"
    }
   ],
   "source": [
    "all_data.describe()"
   ]
  },
  {
   "cell_type": "code",
   "execution_count": 14,
   "id": "1b5fbbb0",
   "metadata": {
    "execution": {
     "iopub.execute_input": "2023-11-18T20:02:49.567628Z",
     "iopub.status.busy": "2023-11-18T20:02:49.567297Z",
     "iopub.status.idle": "2023-11-18T20:02:49.997264Z",
     "shell.execute_reply": "2023-11-18T20:02:49.996174Z"
    },
    "papermill": {
     "duration": 0.443159,
     "end_time": "2023-11-18T20:02:49.999897",
     "exception": false,
     "start_time": "2023-11-18T20:02:49.556738",
     "status": "completed"
    },
    "tags": []
   },
   "outputs": [
    {
     "data": {
      "text/plain": [
       "video_id                      0\n",
       "trending_date                 0\n",
       "title                         0\n",
       "channel_title                 0\n",
       "category_id                   0\n",
       "publish_time                  0\n",
       "tags                          0\n",
       "views                         0\n",
       "likes                         0\n",
       "dislikes                      0\n",
       "comment_count                 0\n",
       "thumbnail_link                0\n",
       "comments_disabled             0\n",
       "ratings_disabled              0\n",
       "video_error_or_removed        0\n",
       "description               13874\n",
       "country                       0\n",
       "category                      0\n",
       "publish_date                  0\n",
       "dtype: int64"
      ]
     },
     "execution_count": 14,
     "metadata": {},
     "output_type": "execute_result"
    }
   ],
   "source": [
    "all_data.isna().sum()"
   ]
  },
  {
   "cell_type": "code",
   "execution_count": 15,
   "id": "84733fc4",
   "metadata": {
    "execution": {
     "iopub.execute_input": "2023-11-18T20:02:50.021498Z",
     "iopub.status.busy": "2023-11-18T20:02:50.021136Z",
     "iopub.status.idle": "2023-11-18T20:02:51.082412Z",
     "shell.execute_reply": "2023-11-18T20:02:51.081367Z"
    },
    "papermill": {
     "duration": 1.075366,
     "end_time": "2023-11-18T20:02:51.085084",
     "exception": false,
     "start_time": "2023-11-18T20:02:50.009718",
     "status": "completed"
    },
    "tags": []
   },
   "outputs": [
    {
     "data": {
      "text/plain": [
       "0"
      ]
     },
     "execution_count": 15,
     "metadata": {},
     "output_type": "execute_result"
    }
   ],
   "source": [
    "all_data.duplicated().sum()"
   ]
  },
  {
   "cell_type": "code",
   "execution_count": 16,
   "id": "232924f9",
   "metadata": {
    "_kg_hide-output": true,
    "execution": {
     "iopub.execute_input": "2023-11-18T20:02:51.106343Z",
     "iopub.status.busy": "2023-11-18T20:02:51.105932Z",
     "iopub.status.idle": "2023-11-18T20:02:51.159597Z",
     "shell.execute_reply": "2023-11-18T20:02:51.158112Z"
    },
    "papermill": {
     "duration": 0.067225,
     "end_time": "2023-11-18T20:02:51.162048",
     "exception": false,
     "start_time": "2023-11-18T20:02:51.094823",
     "status": "completed"
    },
    "tags": []
   },
   "outputs": [],
   "source": [
    "all_data = all_data.drop([\n",
    "    'category_id',\n",
    "    'thumbnail_link', \n",
    "    'comments_disabled', \n",
    "    'ratings_disabled', \n",
    "    'video_error_or_removed', \n",
    "    'description'\n",
    "], axis = 1)"
   ]
  },
  {
   "cell_type": "code",
   "execution_count": 17,
   "id": "86e402ea",
   "metadata": {
    "execution": {
     "iopub.execute_input": "2023-11-18T20:02:51.182693Z",
     "iopub.status.busy": "2023-11-18T20:02:51.182331Z",
     "iopub.status.idle": "2023-11-18T20:02:51.268710Z",
     "shell.execute_reply": "2023-11-18T20:02:51.267030Z"
    },
    "papermill": {
     "duration": 0.099658,
     "end_time": "2023-11-18T20:02:51.271314",
     "exception": false,
     "start_time": "2023-11-18T20:02:51.171656",
     "status": "completed"
    },
    "tags": []
   },
   "outputs": [],
   "source": [
    "all_data = all_data[[\n",
    "    'video_id', \n",
    "    'title', \n",
    "    'channel_title', \n",
    "    'publish_time', \n",
    "    'publish_date', \n",
    "    'trending_date', \n",
    "    'country', \n",
    "    'category', \n",
    "    'tags', \n",
    "    'views', \n",
    "    'likes', \n",
    "    'dislikes', \n",
    "    'comment_count'\n",
    "]]"
   ]
  },
  {
   "cell_type": "code",
   "execution_count": 18,
   "id": "0c568c6d",
   "metadata": {
    "execution": {
     "iopub.execute_input": "2023-11-18T20:02:51.292496Z",
     "iopub.status.busy": "2023-11-18T20:02:51.292115Z",
     "iopub.status.idle": "2023-11-18T20:02:51.309004Z",
     "shell.execute_reply": "2023-11-18T20:02:51.307834Z"
    },
    "papermill": {
     "duration": 0.029792,
     "end_time": "2023-11-18T20:02:51.310880",
     "exception": false,
     "start_time": "2023-11-18T20:02:51.281088",
     "status": "completed"
    },
    "tags": []
   },
   "outputs": [
    {
     "data": {
      "text/html": [
       "<div>\n",
       "<style scoped>\n",
       "    .dataframe tbody tr th:only-of-type {\n",
       "        vertical-align: middle;\n",
       "    }\n",
       "\n",
       "    .dataframe tbody tr th {\n",
       "        vertical-align: top;\n",
       "    }\n",
       "\n",
       "    .dataframe thead th {\n",
       "        text-align: right;\n",
       "    }\n",
       "</style>\n",
       "<table border=\"1\" class=\"dataframe\">\n",
       "  <thead>\n",
       "    <tr style=\"text-align: right;\">\n",
       "      <th></th>\n",
       "      <th>video_id</th>\n",
       "      <th>title</th>\n",
       "      <th>channel_title</th>\n",
       "      <th>publish_time</th>\n",
       "      <th>publish_date</th>\n",
       "      <th>trending_date</th>\n",
       "      <th>country</th>\n",
       "      <th>category</th>\n",
       "      <th>tags</th>\n",
       "      <th>views</th>\n",
       "      <th>likes</th>\n",
       "      <th>dislikes</th>\n",
       "      <th>comment_count</th>\n",
       "    </tr>\n",
       "  </thead>\n",
       "  <tbody>\n",
       "    <tr>\n",
       "      <th>40319</th>\n",
       "      <td>--45ws7CEN0</td>\n",
       "      <td>PlayStation E3 2018 Showcase | English</td>\n",
       "      <td>PlayStation Europe</td>\n",
       "      <td>2018-06-12 03:11:18+00:00</td>\n",
       "      <td>2018-06-12</td>\n",
       "      <td>2018-06-12</td>\n",
       "      <td>CA</td>\n",
       "      <td>Gaming</td>\n",
       "      <td>playstation|\"playstation 4\"|\"playstation europ...</td>\n",
       "      <td>309197</td>\n",
       "      <td>3837</td>\n",
       "      <td>516</td>\n",
       "      <td>278</td>\n",
       "    </tr>\n",
       "    <tr>\n",
       "      <th>29018</th>\n",
       "      <td>--7vNbh4UNA</td>\n",
       "      <td>Responding to ALL The Outrage, Ridiculous H3H3...</td>\n",
       "      <td>Philip DeFranco</td>\n",
       "      <td>2018-04-13 19:00:00+00:00</td>\n",
       "      <td>2018-04-13</td>\n",
       "      <td>2018-04-16</td>\n",
       "      <td>CA</td>\n",
       "      <td>News &amp; Politics</td>\n",
       "      <td>Elizabeth Hurley|\"Instagram\"|\"Outrage\"|\"scanda...</td>\n",
       "      <td>1335225</td>\n",
       "      <td>60694</td>\n",
       "      <td>1576</td>\n",
       "      <td>10150</td>\n",
       "    </tr>\n",
       "    <tr>\n",
       "      <th>38277</th>\n",
       "      <td>--MtKsH5oBY</td>\n",
       "      <td>ØµØ­ÙÙ Ø¨ÙÙ Ø³Ø¨ÙØ±Øª ÙÙØ´Ù ØªÙØ§ØµÙ...</td>\n",
       "      <td>RedsTech</td>\n",
       "      <td>2018-05-31 12:40:46+00:00</td>\n",
       "      <td>2018-05-31</td>\n",
       "      <td>2018-06-01</td>\n",
       "      <td>CA</td>\n",
       "      <td>Sports</td>\n",
       "      <td>RedsTech|\"bein sports\"|\"Ø±ÙØ§Ù Ù",
       "Ø¯Ø±ÙØ¯\"|\"...</td>\n",
       "      <td>511042</td>\n",
       "      <td>3517</td>\n",
       "      <td>372</td>\n",
       "      <td>767</td>\n",
       "    </tr>\n",
       "    <tr>\n",
       "      <th>35839</th>\n",
       "      <td>--YgtVuvWGo</td>\n",
       "      <td>Jessie Reyez - Body Count</td>\n",
       "      <td>JessieReyezVEVO</td>\n",
       "      <td>2018-05-18 04:00:00+00:00</td>\n",
       "      <td>2018-05-18</td>\n",
       "      <td>2018-05-20</td>\n",
       "      <td>CA</td>\n",
       "      <td>Music</td>\n",
       "      <td>Jessie|\"Reyez\"|\"Body\"|\"Count\"|\"Island\"|\"Records\"</td>\n",
       "      <td>362391</td>\n",
       "      <td>21547</td>\n",
       "      <td>356</td>\n",
       "      <td>955</td>\n",
       "    </tr>\n",
       "    <tr>\n",
       "      <th>32078</th>\n",
       "      <td>--iJShLChIc</td>\n",
       "      <td>Undisputed | Will LeBron James carry the Cavs ...</td>\n",
       "      <td>THSports 2</td>\n",
       "      <td>2018-04-30 16:02:26+00:00</td>\n",
       "      <td>2018-04-30</td>\n",
       "      <td>2018-05-01</td>\n",
       "      <td>CA</td>\n",
       "      <td>Sports</td>\n",
       "      <td>[none]</td>\n",
       "      <td>54691</td>\n",
       "      <td>153</td>\n",
       "      <td>134</td>\n",
       "      <td>254</td>\n",
       "    </tr>\n",
       "  </tbody>\n",
       "</table>\n",
       "</div>"
      ],
      "text/plain": [
       "          video_id                                              title  \\\n",
       "40319  --45ws7CEN0             PlayStation E3 2018 Showcase | English   \n",
       "29018  --7vNbh4UNA  Responding to ALL The Outrage, Ridiculous H3H3...   \n",
       "38277  --MtKsH5oBY  ØµØ­ÙÙ Ø¨ÙÙ Ø³Ø¨ÙØ±Øª ÙÙØ´Ù ØªÙØ§ØµÙ...   \n",
       "35839  --YgtVuvWGo                          Jessie Reyez - Body Count   \n",
       "32078  --iJShLChIc  Undisputed | Will LeBron James carry the Cavs ...   \n",
       "\n",
       "            channel_title              publish_time publish_date  \\\n",
       "40319  PlayStation Europe 2018-06-12 03:11:18+00:00   2018-06-12   \n",
       "29018     Philip DeFranco 2018-04-13 19:00:00+00:00   2018-04-13   \n",
       "38277            RedsTech 2018-05-31 12:40:46+00:00   2018-05-31   \n",
       "35839     JessieReyezVEVO 2018-05-18 04:00:00+00:00   2018-05-18   \n",
       "32078          THSports 2 2018-04-30 16:02:26+00:00   2018-04-30   \n",
       "\n",
       "      trending_date country         category  \\\n",
       "40319    2018-06-12      CA           Gaming   \n",
       "29018    2018-04-16      CA  News & Politics   \n",
       "38277    2018-06-01      CA           Sports   \n",
       "35839    2018-05-20      CA            Music   \n",
       "32078    2018-05-01      CA           Sports   \n",
       "\n",
       "                                                    tags    views  likes  \\\n",
       "40319  playstation|\"playstation 4\"|\"playstation europ...   309197   3837   \n",
       "29018  Elizabeth Hurley|\"Instagram\"|\"Outrage\"|\"scanda...  1335225  60694   \n",
       "38277  RedsTech|\"bein sports\"|\"Ø±ÙØ§Ù Ù\n",
       "Ø¯Ø±ÙØ¯\"|\"...   511042   3517   \n",
       "35839   Jessie|\"Reyez\"|\"Body\"|\"Count\"|\"Island\"|\"Records\"   362391  21547   \n",
       "32078                                             [none]    54691    153   \n",
       "\n",
       "       dislikes  comment_count  \n",
       "40319       516            278  \n",
       "29018      1576          10150  \n",
       "38277       372            767  \n",
       "35839       356            955  \n",
       "32078       134            254  "
      ]
     },
     "execution_count": 18,
     "metadata": {},
     "output_type": "execute_result"
    }
   ],
   "source": [
    "all_data.head()"
   ]
  },
  {
   "cell_type": "markdown",
   "id": "706ede4b",
   "metadata": {
    "papermill": {
     "duration": 0.009238,
     "end_time": "2023-11-18T20:02:51.329878",
     "exception": false,
     "start_time": "2023-11-18T20:02:51.320640",
     "status": "completed"
    },
    "tags": []
   },
   "source": [
    "#### What are the categorical differences in viewing patterns between two countries. For this example let's take India and Germany."
   ]
  },
  {
   "cell_type": "code",
   "execution_count": 19,
   "id": "8de48b2e",
   "metadata": {
    "execution": {
     "iopub.execute_input": "2023-11-18T20:02:51.351077Z",
     "iopub.status.busy": "2023-11-18T20:02:51.350691Z",
     "iopub.status.idle": "2023-11-18T20:02:51.373601Z",
     "shell.execute_reply": "2023-11-18T20:02:51.371784Z"
    },
    "papermill": {
     "duration": 0.036609,
     "end_time": "2023-11-18T20:02:51.376017",
     "exception": false,
     "start_time": "2023-11-18T20:02:51.339408",
     "status": "completed"
    },
    "tags": []
   },
   "outputs": [],
   "source": [
    "IN_DE_data = all_data[all_data['country'].isin(['IN', 'DE'])]"
   ]
  },
  {
   "cell_type": "code",
   "execution_count": 20,
   "id": "aba13a4c",
   "metadata": {
    "execution": {
     "iopub.execute_input": "2023-11-18T20:02:51.397403Z",
     "iopub.status.busy": "2023-11-18T20:02:51.397037Z",
     "iopub.status.idle": "2023-11-18T20:02:53.704563Z",
     "shell.execute_reply": "2023-11-18T20:02:53.703314Z"
    },
    "papermill": {
     "duration": 2.321458,
     "end_time": "2023-11-18T20:02:53.707279",
     "exception": false,
     "start_time": "2023-11-18T20:02:51.385821",
     "status": "completed"
    },
    "tags": []
   },
   "outputs": [
    {
     "data": {
      "text/plain": [
       "<seaborn.axisgrid.FacetGrid at 0x2944c602e50>"
      ]
     },
     "execution_count": 20,
     "metadata": {},
     "output_type": "execute_result"
    },
    {
     "data": {
      "image/png": "[encoded data removed]",
      "text/plain": [
       "<Figure size 569.5x500 with 1 Axes>"
      ]
     },
     "metadata": {},
     "output_type": "display_data"
    }
   ],
   "source": [
    "import matplotlib.pyplot as plt\n",
    "import seaborn as sns\n",
    "\n",
    "g = sns.catplot(data = IN_DE_data, \n",
    "                kind = 'bar', \n",
    "                x = 'category', \n",
    "                y = 'views', \n",
    "                hue = 'country', \n",
    "                alpha = .9, \n",
    "                height = 5, \n",
    "                errorbar = None)\n",
    "\n",
    "plt.title(\"Germans/Indians viewing patterns\")\n",
    "\n",
    "g.despine(left = True)\n",
    "g.set_xticklabels(rotation = 90)"
   ]
  },
  {
   "cell_type": "markdown",
   "id": "7b41f95f",
   "metadata": {
    "papermill": {
     "duration": 0.01094,
     "end_time": "2023-11-18T20:02:53.729570",
     "exception": false,
     "start_time": "2023-11-18T20:02:53.718630",
     "status": "completed"
    },
    "tags": []
   },
   "source": [
    "German viewers prefer to watch content about Education and Nonprofits & Activism. Especially by huge difference in \"Nonprofits & Activism\" views we can admit that Germans are mostly inspired self development and social activism.\n",
    "\n",
    "On the other side, Indian viewers interested more in categories such as Gaming, Film & Animation, Pets & Animals, Movies, Sports etc. \n",
    "\n",
    "And YouTube platform for Indians is used as a source of spectacular content."
   ]
  },
  {
   "cell_type": "markdown",
   "id": "454986a1",
   "metadata": {
    "papermill": {
     "duration": 0.01094,
     "end_time": "2023-11-18T20:02:53.751615",
     "exception": false,
     "start_time": "2023-11-18T20:02:53.740675",
     "status": "completed"
    },
    "tags": []
   },
   "source": [
    "#### Ratios between views / likes / dislikes for different categories / countries"
   ]
  },
  {
   "cell_type": "code",
   "execution_count": 21,
   "id": "500ebeaf",
   "metadata": {
    "execution": {
     "iopub.execute_input": "2023-11-18T20:02:53.775828Z",
     "iopub.status.busy": "2023-11-18T20:02:53.775446Z",
     "iopub.status.idle": "2023-11-18T20:02:53.827395Z",
     "shell.execute_reply": "2023-11-18T20:02:53.826172Z"
    },
    "papermill": {
     "duration": 0.066941,
     "end_time": "2023-11-18T20:02:53.829870",
     "exception": false,
     "start_time": "2023-11-18T20:02:53.762929",
     "status": "completed"
    },
    "tags": []
   },
   "outputs": [
    {
     "data": {
      "text/html": [
       "<div>\n",
       "<style scoped>\n",
       "    .dataframe tbody tr th:only-of-type {\n",
       "        vertical-align: middle;\n",
       "    }\n",
       "\n",
       "    .dataframe tbody tr th {\n",
       "        vertical-align: top;\n",
       "    }\n",
       "\n",
       "    .dataframe thead th {\n",
       "        text-align: right;\n",
       "    }\n",
       "</style>\n",
       "<table border=\"1\" class=\"dataframe\">\n",
       "  <thead>\n",
       "    <tr style=\"text-align: right;\">\n",
       "      <th></th>\n",
       "      <th></th>\n",
       "      <th>views</th>\n",
       "      <th>likes</th>\n",
       "      <th>dislikes</th>\n",
       "    </tr>\n",
       "    <tr>\n",
       "      <th>country</th>\n",
       "      <th>category</th>\n",
       "      <th></th>\n",
       "      <th></th>\n",
       "      <th></th>\n",
       "    </tr>\n",
       "  </thead>\n",
       "  <tbody>\n",
       "    <tr>\n",
       "      <th rowspan=\"5\" valign=\"top\">CA</th>\n",
       "      <th>Autos &amp; Vehicles</th>\n",
       "      <td>119562221</td>\n",
       "      <td>3280828</td>\n",
       "      <td>113746</td>\n",
       "    </tr>\n",
       "    <tr>\n",
       "      <th>Comedy</th>\n",
       "      <td>1700112283</td>\n",
       "      <td>85209714</td>\n",
       "      <td>2420559</td>\n",
       "    </tr>\n",
       "    <tr>\n",
       "      <th>Education</th>\n",
       "      <td>271530103</td>\n",
       "      <td>9612006</td>\n",
       "      <td>384975</td>\n",
       "    </tr>\n",
       "    <tr>\n",
       "      <th>Entertainment</th>\n",
       "      <td>6038865759</td>\n",
       "      <td>152755591</td>\n",
       "      <td>9110085</td>\n",
       "    </tr>\n",
       "    <tr>\n",
       "      <th>Film &amp; Animation</th>\n",
       "      <td>1134592939</td>\n",
       "      <td>27284332</td>\n",
       "      <td>1169308</td>\n",
       "    </tr>\n",
       "  </tbody>\n",
       "</table>\n",
       "</div>"
      ],
      "text/plain": [
       "                               views      likes  dislikes\n",
       "country category                                         \n",
       "CA      Autos & Vehicles   119562221    3280828    113746\n",
       "        Comedy            1700112283   85209714   2420559\n",
       "        Education          271530103    9612006    384975\n",
       "        Entertainment     6038865759  152755591   9110085\n",
       "        Film & Animation  1134592939   27284332   1169308"
      ]
     },
     "execution_count": 21,
     "metadata": {},
     "output_type": "execute_result"
    }
   ],
   "source": [
    "ratios = all_data.groupby(['country', 'category']).\\\n",
    "    agg({'views': 'sum', 'likes': 'sum', 'dislikes':'sum'})\n",
    "ratios.head()"
   ]
  },
  {
   "cell_type": "code",
   "execution_count": 22,
   "id": "53642b28",
   "metadata": {
    "execution": {
     "iopub.execute_input": "2023-11-18T20:02:53.854396Z",
     "iopub.status.busy": "2023-11-18T20:02:53.852534Z",
     "iopub.status.idle": "2023-11-18T20:02:53.860866Z",
     "shell.execute_reply": "2023-11-18T20:02:53.860046Z"
    },
    "papermill": {
     "duration": 0.022226,
     "end_time": "2023-11-18T20:02:53.862738",
     "exception": false,
     "start_time": "2023-11-18T20:02:53.840512",
     "status": "completed"
    },
    "tags": []
   },
   "outputs": [],
   "source": [
    "ratios['views/likes_ratio'] = ratios['likes'] / ratios['views']\n",
    "ratios['views/dislikes_ratio'] = ratios['dislikes'] / ratios['views']"
   ]
  },
  {
   "cell_type": "code",
   "execution_count": 23,
   "id": "0b919777",
   "metadata": {
    "execution": {
     "iopub.execute_input": "2023-11-18T20:02:53.886229Z",
     "iopub.status.busy": "2023-11-18T20:02:53.885130Z",
     "iopub.status.idle": "2023-11-18T20:02:53.891356Z",
     "shell.execute_reply": "2023-11-18T20:02:53.890355Z"
    },
    "papermill": {
     "duration": 0.020082,
     "end_time": "2023-11-18T20:02:53.893634",
     "exception": false,
     "start_time": "2023-11-18T20:02:53.873552",
     "status": "completed"
    },
    "tags": []
   },
   "outputs": [],
   "source": [
    "ratios.reset_index(inplace = True)"
   ]
  },
  {
   "cell_type": "code",
   "execution_count": 24,
   "id": "e2c681da",
   "metadata": {
    "execution": {
     "iopub.execute_input": "2023-11-18T20:02:53.916183Z",
     "iopub.status.busy": "2023-11-18T20:02:53.915829Z",
     "iopub.status.idle": "2023-11-18T20:02:53.937121Z",
     "shell.execute_reply": "2023-11-18T20:02:53.936197Z"
    },
    "papermill": {
     "duration": 0.035122,
     "end_time": "2023-11-18T20:02:53.939468",
     "exception": false,
     "start_time": "2023-11-18T20:02:53.904346",
     "status": "completed"
    },
    "tags": []
   },
   "outputs": [],
   "source": [
    "views_likes_ratios_pivot = ratios.pivot(index = 'country', \n",
    "                                  columns = 'category', \n",
    "                                  values = 'views/likes_ratio')\n",
    "views_dislikes_ratios_pivot = ratios.pivot(index = 'country', \n",
    "                                           columns = 'category', \n",
    "                                           values = 'views/dislikes_ratio')"
   ]
  },
  {
   "cell_type": "code",
   "execution_count": 25,
   "id": "272dbe50",
   "metadata": {
    "execution": {
     "iopub.execute_input": "2023-11-18T20:02:53.963216Z",
     "iopub.status.busy": "2023-11-18T20:02:53.962524Z",
     "iopub.status.idle": "2023-11-18T20:02:54.538941Z",
     "shell.execute_reply": "2023-11-18T20:02:54.538163Z"
    },
    "papermill": {
     "duration": 0.591397,
     "end_time": "2023-11-18T20:02:54.541415",
     "exception": false,
     "start_time": "2023-11-18T20:02:53.950018",
     "status": "completed"
    },
    "tags": []
   },
   "outputs": [
    {
     "data": {
      "image/png": "[encoded data removed]",
      "text/plain": [
       "<Figure size 1000x500 with 2 Axes>"
      ]
     },
     "metadata": {},
     "output_type": "display_data"
    }
   ],
   "source": [
    "plt.figure(figsize = (10,5))\n",
    "sns.heatmap(data = views_likes_ratios_pivot, \n",
    "            annot = True, \n",
    "            cmap = \"YlGnBu\", \n",
    "            fmt = \".0%\")\n",
    "plt.title(\"Views/Likes Ratio\")\n",
    "plt.xlabel(\"Category\")\n",
    "plt.ylabel(\"Country\")\n",
    "plt.show()"
   ]
  },
  {
   "cell_type": "markdown",
   "id": "02e2f950",
   "metadata": {
    "papermill": {
     "duration": 0.012707,
     "end_time": "2023-11-18T20:02:54.567540",
     "exception": false,
     "start_time": "2023-11-18T20:02:54.554833",
     "status": "completed"
    },
    "tags": []
   },
   "source": [
    "- **Views/Likes Ratio:** \n",
    "\n",
    "The most liked category in most of the countries represented is \"Nonprofits & Activism\". Also, \"Music\", \"Comedy\" and \"Education\" has the biggest \"views/likes ratio\". \n",
    "What about countries, Russian and Mexican viewers highly likely will click the like button in most of the categories."
   ]
  },
  {
   "cell_type": "code",
   "execution_count": 26,
   "id": "ba85f37b",
   "metadata": {
    "execution": {
     "iopub.execute_input": "2023-11-18T20:02:54.593517Z",
     "iopub.status.busy": "2023-11-18T20:02:54.593123Z",
     "iopub.status.idle": "2023-11-18T20:02:55.166935Z",
     "shell.execute_reply": "2023-11-18T20:02:55.165706Z"
    },
    "papermill": {
     "duration": 0.589417,
     "end_time": "2023-11-18T20:02:55.169121",
     "exception": false,
     "start_time": "2023-11-18T20:02:54.579704",
     "status": "completed"
    },
    "tags": []
   },
   "outputs": [
    {
     "data": {
      "image/png": "[encoded data removed]",
      "text/plain": [
       "<Figure size 1000x500 with 2 Axes>"
      ]
     },
     "metadata": {},
     "output_type": "display_data"
    }
   ],
   "source": [
    "plt.figure(figsize = (10, 5))\n",
    "sns.heatmap(data = views_dislikes_ratios_pivot, \n",
    "            annot = True, \n",
    "            cmap = \"YlGnBu\", \n",
    "            fmt = \".0%\")\n",
    "plt.title(\"Views/Dislikes Ratio\")\n",
    "plt.xlabel(\"Category\")\n",
    "plt.ylabel(\"Country\")\n",
    "plt.show()"
   ]
  },
  {
   "cell_type": "markdown",
   "id": "0a06b4fe",
   "metadata": {
    "papermill": {
     "duration": 0.013005,
     "end_time": "2023-11-18T20:02:55.195793",
     "exception": false,
     "start_time": "2023-11-18T20:02:55.182788",
     "status": "completed"
    },
    "tags": []
   },
   "source": [
    "- **Views/Dislikes Ratio:**\n",
    "\n",
    "This indicator is times less than the previous. The most disliked category is \"Nonprofits & Activism\", that says that this category is very vulnerable in terms of peoples beliefs and may involve conflicts in society.\n",
    "Also, Russian viewers are the most straightforward and will vote with dislike more often than others."
   ]
  },
  {
   "cell_type": "markdown",
   "id": "d9dfb6a3",
   "metadata": {
    "papermill": {
     "duration": 0.012824,
     "end_time": "2023-11-18T20:02:55.221869",
     "exception": false,
     "start_time": "2023-11-18T20:02:55.209045",
     "status": "completed"
    },
    "tags": []
   },
   "source": [
    "#### Сhannels that are popular in most countries"
   ]
  },
  {
   "cell_type": "code",
   "execution_count": 27,
   "id": "195970f4",
   "metadata": {
    "execution": {
     "iopub.execute_input": "2023-11-18T20:02:55.250719Z",
     "iopub.status.busy": "2023-11-18T20:02:55.250359Z",
     "iopub.status.idle": "2023-11-18T20:02:55.358197Z",
     "shell.execute_reply": "2023-11-18T20:02:55.357127Z"
    },
    "papermill": {
     "duration": 0.12553,
     "end_time": "2023-11-18T20:02:55.360790",
     "exception": false,
     "start_time": "2023-11-18T20:02:55.235260",
     "status": "completed"
    },
    "tags": []
   },
   "outputs": [
    {
     "data": {
      "text/html": [
       "<div>\n",
       "<style scoped>\n",
       "    .dataframe tbody tr th:only-of-type {\n",
       "        vertical-align: middle;\n",
       "    }\n",
       "\n",
       "    .dataframe tbody tr th {\n",
       "        vertical-align: top;\n",
       "    }\n",
       "\n",
       "    .dataframe thead th {\n",
       "        text-align: right;\n",
       "    }\n",
       "</style>\n",
       "<table border=\"1\" class=\"dataframe\">\n",
       "  <thead>\n",
       "    <tr style=\"text-align: right;\">\n",
       "      <th></th>\n",
       "      <th>country</th>\n",
       "      <th>channel_title</th>\n",
       "      <th>views</th>\n",
       "    </tr>\n",
       "  </thead>\n",
       "  <tbody>\n",
       "    <tr>\n",
       "      <th>0</th>\n",
       "      <td>CA</td>\n",
       "      <td>#AndresSTyle</td>\n",
       "      <td>520401</td>\n",
       "    </tr>\n",
       "    <tr>\n",
       "      <th>1</th>\n",
       "      <td>CA</td>\n",
       "      <td>#Mind Warehouse</td>\n",
       "      <td>15149328</td>\n",
       "    </tr>\n",
       "    <tr>\n",
       "      <th>2</th>\n",
       "      <td>CA</td>\n",
       "      <td>#SeekingTheTruth</td>\n",
       "      <td>119011</td>\n",
       "    </tr>\n",
       "    <tr>\n",
       "      <th>3</th>\n",
       "      <td>CA</td>\n",
       "      <td>* Martyna *</td>\n",
       "      <td>44973</td>\n",
       "    </tr>\n",
       "    <tr>\n",
       "      <th>4</th>\n",
       "      <td>CA</td>\n",
       "      <td>- æ¬¢è¿è®¢é",
       " -æµæ±å«è§ãå¥è·å§ãå®...</td>\n",
       "      <td>19152926</td>\n",
       "    </tr>\n",
       "  </tbody>\n",
       "</table>\n",
       "</div>"
      ],
      "text/plain": [
       "  country                                      channel_title     views\n",
       "0      CA                                       #AndresSTyle    520401\n",
       "1      CA                                    #Mind Warehouse  15149328\n",
       "2      CA                                   #SeekingTheTruth    119011\n",
       "3      CA                                        * Martyna *     44973\n",
       "4      CA  - æ¬¢è¿è®¢é\n",
       " -æµæ±å«è§ãå¥è·å§ãå®...  19152926"
      ]
     },
     "execution_count": 27,
     "metadata": {},
     "output_type": "execute_result"
    }
   ],
   "source": [
    "channel_views = pd.DataFrame(all_data.groupby(['country', 'channel_title'])['views'].sum().reset_index())\n",
    "channel_views.head()"
   ]
  },
  {
   "cell_type": "code",
   "execution_count": 28,
   "id": "16c5b3e9",
   "metadata": {
    "execution": {
     "iopub.execute_input": "2023-11-18T20:02:55.390558Z",
     "iopub.status.busy": "2023-11-18T20:02:55.390147Z",
     "iopub.status.idle": "2023-11-18T20:02:55.436047Z",
     "shell.execute_reply": "2023-11-18T20:02:55.434478Z"
    },
    "papermill": {
     "duration": 0.063908,
     "end_time": "2023-11-18T20:02:55.438546",
     "exception": false,
     "start_time": "2023-11-18T20:02:55.374638",
     "status": "completed"
    },
    "tags": []
   },
   "outputs": [],
   "source": [
    "channels_popularity = channel_views.sort_values(['country', 'views'], ascending = [True, False])\n",
    "channels_popularity['rank'] = channels_popularity.groupby('country')['views'].rank(ascending = False)"
   ]
  },
  {
   "cell_type": "code",
   "execution_count": 29,
   "id": "3797b0a1",
   "metadata": {
    "execution": {
     "iopub.execute_input": "2023-11-18T20:02:55.469795Z",
     "iopub.status.busy": "2023-11-18T20:02:55.469442Z",
     "iopub.status.idle": "2023-11-18T20:02:55.482819Z",
     "shell.execute_reply": "2023-11-18T20:02:55.481393Z"
    },
    "papermill": {
     "duration": 0.032981,
     "end_time": "2023-11-18T20:02:55.485190",
     "exception": false,
     "start_time": "2023-11-18T20:02:55.452209",
     "status": "completed"
    },
    "tags": []
   },
   "outputs": [
    {
     "data": {
      "text/html": [
       "<div>\n",
       "<style scoped>\n",
       "    .dataframe tbody tr th:only-of-type {\n",
       "        vertical-align: middle;\n",
       "    }\n",
       "\n",
       "    .dataframe tbody tr th {\n",
       "        vertical-align: top;\n",
       "    }\n",
       "\n",
       "    .dataframe thead th {\n",
       "        text-align: right;\n",
       "    }\n",
       "</style>\n",
       "<table border=\"1\" class=\"dataframe\">\n",
       "  <thead>\n",
       "    <tr style=\"text-align: right;\">\n",
       "      <th></th>\n",
       "      <th>country</th>\n",
       "      <th>channel_title</th>\n",
       "      <th>views</th>\n",
       "      <th>rank</th>\n",
       "    </tr>\n",
       "  </thead>\n",
       "  <tbody>\n",
       "    <tr>\n",
       "      <th>3599</th>\n",
       "      <td>CA</td>\n",
       "      <td>T-Series</td>\n",
       "      <td>342015089</td>\n",
       "      <td>1.0</td>\n",
       "    </tr>\n",
       "    <tr>\n",
       "      <th>2333</th>\n",
       "      <td>CA</td>\n",
       "      <td>MLG Highlights</td>\n",
       "      <td>199094694</td>\n",
       "      <td>2.0</td>\n",
       "    </tr>\n",
       "    <tr>\n",
       "      <th>1099</th>\n",
       "      <td>CA</td>\n",
       "      <td>Dude Perfect</td>\n",
       "      <td>196804885</td>\n",
       "      <td>3.0</td>\n",
       "    </tr>\n",
       "    <tr>\n",
       "      <th>2417</th>\n",
       "      <td>CA</td>\n",
       "      <td>Marvel Entertainment</td>\n",
       "      <td>192641384</td>\n",
       "      <td>4.0</td>\n",
       "    </tr>\n",
       "    <tr>\n",
       "      <th>2948</th>\n",
       "      <td>CA</td>\n",
       "      <td>PewDiePie</td>\n",
       "      <td>183430917</td>\n",
       "      <td>5.0</td>\n",
       "    </tr>\n",
       "  </tbody>\n",
       "</table>\n",
       "</div>"
      ],
      "text/plain": [
       "     country         channel_title      views  rank\n",
       "3599      CA              T-Series  342015089   1.0\n",
       "2333      CA        MLG Highlights  199094694   2.0\n",
       "1099      CA          Dude Perfect  196804885   3.0\n",
       "2417      CA  Marvel Entertainment  192641384   4.0\n",
       "2948      CA             PewDiePie  183430917   5.0"
      ]
     },
     "execution_count": 29,
     "metadata": {},
     "output_type": "execute_result"
    }
   ],
   "source": [
    "channels_popularity.head()"
   ]
  },
  {
   "cell_type": "code",
   "execution_count": 30,
   "id": "3774a125",
   "metadata": {
    "execution": {
     "iopub.execute_input": "2023-11-18T20:02:55.514671Z",
     "iopub.status.busy": "2023-11-18T20:02:55.513820Z",
     "iopub.status.idle": "2023-11-18T20:02:55.523062Z",
     "shell.execute_reply": "2023-11-18T20:02:55.522008Z"
    },
    "papermill": {
     "duration": 0.026405,
     "end_time": "2023-11-18T20:02:55.525281",
     "exception": false,
     "start_time": "2023-11-18T20:02:55.498876",
     "status": "completed"
    },
    "tags": []
   },
   "outputs": [],
   "source": [
    "channels_popularity = channels_popularity[channels_popularity['rank'] <= 10]"
   ]
  },
  {
   "cell_type": "code",
   "execution_count": 31,
   "id": "1b261c4e",
   "metadata": {
    "execution": {
     "iopub.execute_input": "2023-11-18T20:02:55.554309Z",
     "iopub.status.busy": "2023-11-18T20:02:55.553569Z",
     "iopub.status.idle": "2023-11-18T20:02:55.562991Z",
     "shell.execute_reply": "2023-11-18T20:02:55.561800Z"
    },
    "papermill": {
     "duration": 0.026589,
     "end_time": "2023-11-18T20:02:55.565458",
     "exception": false,
     "start_time": "2023-11-18T20:02:55.538869",
     "status": "completed"
    },
    "tags": []
   },
   "outputs": [
    {
     "data": {
      "text/html": [
       "<div>\n",
       "<style scoped>\n",
       "    .dataframe tbody tr th:only-of-type {\n",
       "        vertical-align: middle;\n",
       "    }\n",
       "\n",
       "    .dataframe tbody tr th {\n",
       "        vertical-align: top;\n",
       "    }\n",
       "\n",
       "    .dataframe thead th {\n",
       "        text-align: right;\n",
       "    }\n",
       "</style>\n",
       "<table border=\"1\" class=\"dataframe\">\n",
       "  <thead>\n",
       "    <tr style=\"text-align: right;\">\n",
       "      <th></th>\n",
       "      <th>count</th>\n",
       "    </tr>\n",
       "    <tr>\n",
       "      <th>channel_title</th>\n",
       "      <th></th>\n",
       "    </tr>\n",
       "  </thead>\n",
       "  <tbody>\n",
       "    <tr>\n",
       "      <th>ibighit</th>\n",
       "      <td>9</td>\n",
       "    </tr>\n",
       "    <tr>\n",
       "      <th>Marvel Entertainment</th>\n",
       "      <td>8</td>\n",
       "    </tr>\n",
       "    <tr>\n",
       "      <th>Dude Perfect</th>\n",
       "      <td>7</td>\n",
       "    </tr>\n",
       "    <tr>\n",
       "      <th>PewDiePie</th>\n",
       "      <td>7</td>\n",
       "    </tr>\n",
       "    <tr>\n",
       "      <th>YouTube Spotlight</th>\n",
       "      <td>6</td>\n",
       "    </tr>\n",
       "    <tr>\n",
       "      <th>MLG Highlights</th>\n",
       "      <td>5</td>\n",
       "    </tr>\n",
       "    <tr>\n",
       "      <th>5-Minute Crafts</th>\n",
       "      <td>4</td>\n",
       "    </tr>\n",
       "    <tr>\n",
       "      <th>The Late Show with Stephen Colbert</th>\n",
       "      <td>4</td>\n",
       "    </tr>\n",
       "    <tr>\n",
       "      <th>Ed Sheeran</th>\n",
       "      <td>3</td>\n",
       "    </tr>\n",
       "    <tr>\n",
       "      <th>ChildishGambinoVEVO</th>\n",
       "      <td>3</td>\n",
       "    </tr>\n",
       "  </tbody>\n",
       "</table>\n",
       "</div>"
      ],
      "text/plain": [
       "                                    count\n",
       "channel_title                            \n",
       "ibighit                                 9\n",
       "Marvel Entertainment                    8\n",
       "Dude Perfect                            7\n",
       "PewDiePie                               7\n",
       "YouTube Spotlight                       6\n",
       "MLG Highlights                          5\n",
       "5-Minute Crafts                         4\n",
       "The Late Show with Stephen Colbert      4\n",
       "Ed Sheeran                              3\n",
       "ChildishGambinoVEVO                     3"
      ]
     },
     "execution_count": 31,
     "metadata": {},
     "output_type": "execute_result"
    }
   ],
   "source": [
    "popular_channels = pd.DataFrame(channels_popularity['channel_title'].value_counts()).head(10)\n",
    "popular_channels"
   ]
  },
  {
   "cell_type": "code",
   "execution_count": 32,
   "id": "4bb08567",
   "metadata": {
    "execution": {
     "iopub.execute_input": "2023-11-18T20:02:55.595580Z",
     "iopub.status.busy": "2023-11-18T20:02:55.595220Z",
     "iopub.status.idle": "2023-11-18T20:02:55.600368Z",
     "shell.execute_reply": "2023-11-18T20:02:55.598938Z"
    },
    "papermill": {
     "duration": 0.022969,
     "end_time": "2023-11-18T20:02:55.602449",
     "exception": false,
     "start_time": "2023-11-18T20:02:55.579480",
     "status": "completed"
    },
    "tags": []
   },
   "outputs": [],
   "source": [
    "popular_channels_list = popular_channels.index.values.tolist()"
   ]
  },
  {
   "cell_type": "code",
   "execution_count": 33,
   "id": "8df19bb7",
   "metadata": {
    "execution": {
     "iopub.execute_input": "2023-11-18T20:02:55.631874Z",
     "iopub.status.busy": "2023-11-18T20:02:55.630808Z",
     "iopub.status.idle": "2023-11-18T20:02:55.647382Z",
     "shell.execute_reply": "2023-11-18T20:02:55.646643Z"
    },
    "papermill": {
     "duration": 0.033499,
     "end_time": "2023-11-18T20:02:55.649584",
     "exception": false,
     "start_time": "2023-11-18T20:02:55.616085",
     "status": "completed"
    },
    "tags": []
   },
   "outputs": [],
   "source": [
    "popular_channels_info = channel_views[channel_views['channel_title'].isin(popular_channels_list)].\\\n",
    "                        groupby('channel_title')['views'].sum().reset_index()\n",
    "popular_channels_info = popular_channels_info.sort_values(['views'], ascending = False)\n",
    "popular_channels_info = popular_channels_info.set_index('channel_title')"
   ]
  },
  {
   "cell_type": "markdown",
   "id": "6a20af0d",
   "metadata": {
    "papermill": {
     "duration": 0.013638,
     "end_time": "2023-11-18T20:02:55.677371",
     "exception": false,
     "start_time": "2023-11-18T20:02:55.663733",
     "status": "completed"
    },
    "tags": []
   },
   "source": [
    "**Channels that are popular in most countries**"
   ]
  },
  {
   "cell_type": "code",
   "execution_count": 34,
   "id": "00d48d86",
   "metadata": {
    "execution": {
     "iopub.execute_input": "2023-11-18T20:02:55.707759Z",
     "iopub.status.busy": "2023-11-18T20:02:55.707093Z",
     "iopub.status.idle": "2023-11-18T20:02:55.716321Z",
     "shell.execute_reply": "2023-11-18T20:02:55.714786Z"
    },
    "papermill": {
     "duration": 0.027354,
     "end_time": "2023-11-18T20:02:55.718822",
     "exception": false,
     "start_time": "2023-11-18T20:02:55.691468",
     "status": "completed"
    },
    "tags": []
   },
   "outputs": [
    {
     "data": {
      "text/html": [
       "<div>\n",
       "<style scoped>\n",
       "    .dataframe tbody tr th:only-of-type {\n",
       "        vertical-align: middle;\n",
       "    }\n",
       "\n",
       "    .dataframe tbody tr th {\n",
       "        vertical-align: top;\n",
       "    }\n",
       "\n",
       "    .dataframe thead th {\n",
       "        text-align: right;\n",
       "    }\n",
       "</style>\n",
       "<table border=\"1\" class=\"dataframe\">\n",
       "  <thead>\n",
       "    <tr style=\"text-align: right;\">\n",
       "      <th></th>\n",
       "      <th>views</th>\n",
       "    </tr>\n",
       "    <tr>\n",
       "      <th>channel_title</th>\n",
       "      <th></th>\n",
       "    </tr>\n",
       "  </thead>\n",
       "  <tbody>\n",
       "    <tr>\n",
       "      <th>ibighit</th>\n",
       "      <td>1590170234</td>\n",
       "    </tr>\n",
       "    <tr>\n",
       "      <th>Marvel Entertainment</th>\n",
       "      <td>1480915768</td>\n",
       "    </tr>\n",
       "    <tr>\n",
       "      <th>YouTube Spotlight</th>\n",
       "      <td>1070604343</td>\n",
       "    </tr>\n",
       "    <tr>\n",
       "      <th>Dude Perfect</th>\n",
       "      <td>1062968677</td>\n",
       "    </tr>\n",
       "    <tr>\n",
       "      <th>PewDiePie</th>\n",
       "      <td>1011011576</td>\n",
       "    </tr>\n",
       "    <tr>\n",
       "      <th>Ed Sheeran</th>\n",
       "      <td>955853396</td>\n",
       "    </tr>\n",
       "    <tr>\n",
       "      <th>ChildishGambinoVEVO</th>\n",
       "      <td>870769400</td>\n",
       "    </tr>\n",
       "    <tr>\n",
       "      <th>5-Minute Crafts</th>\n",
       "      <td>747973655</td>\n",
       "    </tr>\n",
       "    <tr>\n",
       "      <th>MLG Highlights</th>\n",
       "      <td>687026968</td>\n",
       "    </tr>\n",
       "    <tr>\n",
       "      <th>The Late Show with Stephen Colbert</th>\n",
       "      <td>678449095</td>\n",
       "    </tr>\n",
       "  </tbody>\n",
       "</table>\n",
       "</div>"
      ],
      "text/plain": [
       "                                         views\n",
       "channel_title                                 \n",
       "ibighit                             1590170234\n",
       "Marvel Entertainment                1480915768\n",
       "YouTube Spotlight                   1070604343\n",
       "Dude Perfect                        1062968677\n",
       "PewDiePie                           1011011576\n",
       "Ed Sheeran                           955853396\n",
       "ChildishGambinoVEVO                  870769400\n",
       "5-Minute Crafts                      747973655\n",
       "MLG Highlights                       687026968\n",
       "The Late Show with Stephen Colbert   678449095"
      ]
     },
     "execution_count": 34,
     "metadata": {},
     "output_type": "execute_result"
    }
   ],
   "source": [
    "popular_channels_info"
   ]
  }
 ],
 "metadata": {
  "kaggle": {
   "accelerator": "none",
   "dataSources": [
    {
     "datasetId": 4549,
     "sourceId": 466349,
     "sourceType": "datasetVersion"
    }
   ],
   "dockerImageVersionId": 30497,
   "isGpuEnabled": false,
   "isInternetEnabled": false,
   "language": "python",
   "sourceType": "notebook"
  },
  "kernelspec": {
   "display_name": "Python 3 (ipykernel)",
   "language": "python",
   "name": "python3"
  },
  "language_info": {
   "codemirror_mode": {
    "name": "ipython",
    "version": 3
   },
   "file_extension": ".py",
   "mimetype": "text/x-python",
   "name": "python",
   "nbconvert_exporter": "python",
   "pygments_lexer": "ipython3",
   "version": "3.11.5"
  },
  "papermill": {
   "default_parameters": {},
   "duration": 52.226388,
   "end_time": "2023-11-18T20:02:56.956412",
   "environment_variables": {},
   "exception": null,
   "input_path": "__notebook__.ipynb",
   "output_path": "__notebook__.ipynb",
   "parameters": {},
   "start_time": "2023-11-18T20:02:04.730024",
   "version": "2.4.0"
  }
 },
 "nbformat": 4,
 "nbformat_minor": 5
}

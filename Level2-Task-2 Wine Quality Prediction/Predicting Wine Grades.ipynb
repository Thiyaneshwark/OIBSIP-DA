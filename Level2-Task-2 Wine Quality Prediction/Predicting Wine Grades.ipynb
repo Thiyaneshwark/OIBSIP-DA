{
 "cells": [
  {
   "cell_type": "markdown",
   "id": "636442a5",
   "metadata": {},
   "source": [
    "##### <div style=\"color:brown;background-color:lightblue;padding:3%;border-radius:150px 150px;font-size:2em;text-align:center\">Wine Quality Prediction</div>"
   ]
  },
  {
   "cell_type": "markdown",
   "id": "73c53468",
   "metadata": {},
   "source": [
    "### Import the libraries and dataset"
   ]
  },
  {
   "cell_type": "code",
   "execution_count": 1,
   "id": "85035094",
   "metadata": {
    "_cell_guid": "b1076dfc-b9ad-4769-8c92-a6c4dae69d19",
    "_uuid": "8f2839f25d086af736a60e9eeb907d3b93b6e0e5",
    "execution": {
     "iopub.execute_input": "2024-01-05T01:10:12.048969Z",
     "iopub.status.busy": "2024-01-05T01:10:12.048301Z",
     "iopub.status.idle": "2024-01-05T01:10:12.534458Z",
     "shell.execute_reply": "2024-01-05T01:10:12.532337Z"
    },
    "papermill": {
     "duration": 0.504255,
     "end_time": "2024-01-05T01:10:12.538076",
     "exception": false,
     "start_time": "2024-01-05T01:10:12.033821",
     "status": "completed"
    },
    "scrolled": true,
    "tags": []
   },
   "outputs": [],
   "source": [
    "import numpy as np\n",
    "import pandas as pd\n",
    "import os\n",
    "\n",
    "import pandas as pd\n",
    "import numpy as np\n",
    "import matplotlib.pyplot as plt\n",
    "import seaborn as sns\n",
    "from scipy.stats.mstats import winsorize\n",
    "from sklearn.model_selection import train_test_split\n",
    "from sklearn.preprocessing import StandardScaler\n",
    "from sklearn.metrics import accuracy_score\n",
    "from imblearn.over_sampling import SMOTE\n",
    "from catboost import CatBoostClassifier\n",
    "from sklearn.ensemble import RandomForestClassifier\n",
    "from lightgbm import LGBMClassifier"
   ]
  },
  {
   "cell_type": "code",
   "execution_count": 2,
   "id": "1ca886ad",
   "metadata": {
    "execution": {
     "iopub.execute_input": "2024-01-05T01:10:17.738542Z",
     "iopub.status.busy": "2024-01-05T01:10:17.738047Z",
     "iopub.status.idle": "2024-01-05T01:10:17.762906Z",
     "shell.execute_reply": "2024-01-05T01:10:17.761387Z"
    },
    "papermill": {
     "duration": 0.042753,
     "end_time": "2024-01-05T01:10:17.766454",
     "exception": false,
     "start_time": "2024-01-05T01:10:17.723701",
     "status": "completed"
    },
    "tags": []
   },
   "outputs": [],
   "source": [
    "df= pd.read_csv('WineQT.csv')"
   ]
  },
  {
   "cell_type": "markdown",
   "id": "a6a587ce",
   "metadata": {
    "papermill": {
     "duration": 0.012546,
     "end_time": "2024-01-05T01:10:17.791459",
     "exception": false,
     "start_time": "2024-01-05T01:10:17.778913",
     "status": "completed"
    },
    "tags": []
   },
   "source": [
    "### Exploratory data analysis (EDA) "
   ]
  },
  {
   "cell_type": "code",
   "execution_count": 3,
   "id": "0c85bb14",
   "metadata": {},
   "outputs": [
    {
     "data": {
      "text/html": [
       "<div>\n",
       "<style scoped>\n",
       "    .dataframe tbody tr th:only-of-type {\n",
       "        vertical-align: middle;\n",
       "    }\n",
       "\n",
       "    .dataframe tbody tr th {\n",
       "        vertical-align: top;\n",
       "    }\n",
       "\n",
       "    .dataframe thead th {\n",
       "        text-align: right;\n",
       "    }\n",
       "</style>\n",
       "<table border=\"1\" class=\"dataframe\">\n",
       "  <thead>\n",
       "    <tr style=\"text-align: right;\">\n",
       "      <th></th>\n",
       "      <th>fixed acidity</th>\n",
       "      <th>volatile acidity</th>\n",
       "      <th>citric acid</th>\n",
       "      <th>residual sugar</th>\n",
       "      <th>chlorides</th>\n",
       "      <th>free sulfur dioxide</th>\n",
       "      <th>total sulfur dioxide</th>\n",
       "      <th>density</th>\n",
       "      <th>pH</th>\n",
       "      <th>sulphates</th>\n",
       "      <th>alcohol</th>\n",
       "      <th>quality</th>\n",
       "      <th>Id</th>\n",
       "    </tr>\n",
       "  </thead>\n",
       "  <tbody>\n",
       "    <tr>\n",
       "      <th>0</th>\n",
       "      <td>7.4</td>\n",
       "      <td>0.70</td>\n",
       "      <td>0.00</td>\n",
       "      <td>1.9</td>\n",
       "      <td>0.076</td>\n",
       "      <td>11.0</td>\n",
       "      <td>34.0</td>\n",
       "      <td>0.9978</td>\n",
       "      <td>3.51</td>\n",
       "      <td>0.56</td>\n",
       "      <td>9.4</td>\n",
       "      <td>5</td>\n",
       "      <td>0</td>\n",
       "    </tr>\n",
       "    <tr>\n",
       "      <th>1</th>\n",
       "      <td>7.8</td>\n",
       "      <td>0.88</td>\n",
       "      <td>0.00</td>\n",
       "      <td>2.6</td>\n",
       "      <td>0.098</td>\n",
       "      <td>25.0</td>\n",
       "      <td>67.0</td>\n",
       "      <td>0.9968</td>\n",
       "      <td>3.20</td>\n",
       "      <td>0.68</td>\n",
       "      <td>9.8</td>\n",
       "      <td>5</td>\n",
       "      <td>1</td>\n",
       "    </tr>\n",
       "    <tr>\n",
       "      <th>2</th>\n",
       "      <td>7.8</td>\n",
       "      <td>0.76</td>\n",
       "      <td>0.04</td>\n",
       "      <td>2.3</td>\n",
       "      <td>0.092</td>\n",
       "      <td>15.0</td>\n",
       "      <td>54.0</td>\n",
       "      <td>0.9970</td>\n",
       "      <td>3.26</td>\n",
       "      <td>0.65</td>\n",
       "      <td>9.8</td>\n",
       "      <td>5</td>\n",
       "      <td>2</td>\n",
       "    </tr>\n",
       "    <tr>\n",
       "      <th>3</th>\n",
       "      <td>11.2</td>\n",
       "      <td>0.28</td>\n",
       "      <td>0.56</td>\n",
       "      <td>1.9</td>\n",
       "      <td>0.075</td>\n",
       "      <td>17.0</td>\n",
       "      <td>60.0</td>\n",
       "      <td>0.9980</td>\n",
       "      <td>3.16</td>\n",
       "      <td>0.58</td>\n",
       "      <td>9.8</td>\n",
       "      <td>6</td>\n",
       "      <td>3</td>\n",
       "    </tr>\n",
       "    <tr>\n",
       "      <th>4</th>\n",
       "      <td>7.4</td>\n",
       "      <td>0.70</td>\n",
       "      <td>0.00</td>\n",
       "      <td>1.9</td>\n",
       "      <td>0.076</td>\n",
       "      <td>11.0</td>\n",
       "      <td>34.0</td>\n",
       "      <td>0.9978</td>\n",
       "      <td>3.51</td>\n",
       "      <td>0.56</td>\n",
       "      <td>9.4</td>\n",
       "      <td>5</td>\n",
       "      <td>4</td>\n",
       "    </tr>\n",
       "  </tbody>\n",
       "</table>\n",
       "</div>"
      ],
      "text/plain": [
       "   fixed acidity  volatile acidity  citric acid  residual sugar  chlorides  \\\n",
       "0            7.4              0.70         0.00             1.9      0.076   \n",
       "1            7.8              0.88         0.00             2.6      0.098   \n",
       "2            7.8              0.76         0.04             2.3      0.092   \n",
       "3           11.2              0.28         0.56             1.9      0.075   \n",
       "4            7.4              0.70         0.00             1.9      0.076   \n",
       "\n",
       "   free sulfur dioxide  total sulfur dioxide  density    pH  sulphates  \\\n",
       "0                 11.0                  34.0   0.9978  3.51       0.56   \n",
       "1                 25.0                  67.0   0.9968  3.20       0.68   \n",
       "2                 15.0                  54.0   0.9970  3.26       0.65   \n",
       "3                 17.0                  60.0   0.9980  3.16       0.58   \n",
       "4                 11.0                  34.0   0.9978  3.51       0.56   \n",
       "\n",
       "   alcohol  quality  Id  \n",
       "0      9.4        5   0  \n",
       "1      9.8        5   1  \n",
       "2      9.8        5   2  \n",
       "3      9.8        6   3  \n",
       "4      9.4        5   4  "
      ]
     },
     "execution_count": 3,
     "metadata": {},
     "output_type": "execute_result"
    }
   ],
   "source": [
    "df.head()"
   ]
  },
  {
   "cell_type": "code",
   "execution_count": 4,
   "id": "4e229d28",
   "metadata": {},
   "outputs": [
    {
     "name": "stdout",
     "output_type": "stream",
     "text": [
      "<class 'pandas.core.frame.DataFrame'>\n",
      "RangeIndex: 1143 entries, 0 to 1142\n",
      "Data columns (total 13 columns):\n",
      " #   Column                Non-Null Count  Dtype  \n",
      "---  ------                --------------  -----  \n",
      " 0   fixed acidity         1143 non-null   float64\n",
      " 1   volatile acidity      1143 non-null   float64\n",
      " 2   citric acid           1143 non-null   float64\n",
      " 3   residual sugar        1143 non-null   float64\n",
      " 4   chlorides             1143 non-null   float64\n",
      " 5   free sulfur dioxide   1143 non-null   float64\n",
      " 6   total sulfur dioxide  1143 non-null   float64\n",
      " 7   density               1143 non-null   float64\n",
      " 8   pH                    1143 non-null   float64\n",
      " 9   sulphates             1143 non-null   float64\n",
      " 10  alcohol               1143 non-null   float64\n",
      " 11  quality               1143 non-null   int64  \n",
      " 12  Id                    1143 non-null   int64  \n",
      "dtypes: float64(11), int64(2)\n",
      "memory usage: 116.2 KB\n"
     ]
    }
   ],
   "source": [
    "df.info()"
   ]
  },
  {
   "cell_type": "code",
   "execution_count": 5,
   "id": "db2d2771",
   "metadata": {},
   "outputs": [
    {
     "data": {
      "text/html": [
       "<div>\n",
       "<style scoped>\n",
       "    .dataframe tbody tr th:only-of-type {\n",
       "        vertical-align: middle;\n",
       "    }\n",
       "\n",
       "    .dataframe tbody tr th {\n",
       "        vertical-align: top;\n",
       "    }\n",
       "\n",
       "    .dataframe thead th {\n",
       "        text-align: right;\n",
       "    }\n",
       "</style>\n",
       "<table border=\"1\" class=\"dataframe\">\n",
       "  <thead>\n",
       "    <tr style=\"text-align: right;\">\n",
       "      <th></th>\n",
       "      <th>fixed acidity</th>\n",
       "      <th>volatile acidity</th>\n",
       "      <th>citric acid</th>\n",
       "      <th>residual sugar</th>\n",
       "      <th>chlorides</th>\n",
       "      <th>free sulfur dioxide</th>\n",
       "      <th>total sulfur dioxide</th>\n",
       "      <th>density</th>\n",
       "      <th>pH</th>\n",
       "      <th>sulphates</th>\n",
       "      <th>alcohol</th>\n",
       "      <th>quality</th>\n",
       "      <th>Id</th>\n",
       "    </tr>\n",
       "  </thead>\n",
       "  <tbody>\n",
       "    <tr>\n",
       "      <th>1138</th>\n",
       "      <td>6.3</td>\n",
       "      <td>0.510</td>\n",
       "      <td>0.13</td>\n",
       "      <td>2.3</td>\n",
       "      <td>0.076</td>\n",
       "      <td>29.0</td>\n",
       "      <td>40.0</td>\n",
       "      <td>0.99574</td>\n",
       "      <td>3.42</td>\n",
       "      <td>0.75</td>\n",
       "      <td>11.0</td>\n",
       "      <td>6</td>\n",
       "      <td>1592</td>\n",
       "    </tr>\n",
       "    <tr>\n",
       "      <th>1139</th>\n",
       "      <td>6.8</td>\n",
       "      <td>0.620</td>\n",
       "      <td>0.08</td>\n",
       "      <td>1.9</td>\n",
       "      <td>0.068</td>\n",
       "      <td>28.0</td>\n",
       "      <td>38.0</td>\n",
       "      <td>0.99651</td>\n",
       "      <td>3.42</td>\n",
       "      <td>0.82</td>\n",
       "      <td>9.5</td>\n",
       "      <td>6</td>\n",
       "      <td>1593</td>\n",
       "    </tr>\n",
       "    <tr>\n",
       "      <th>1140</th>\n",
       "      <td>6.2</td>\n",
       "      <td>0.600</td>\n",
       "      <td>0.08</td>\n",
       "      <td>2.0</td>\n",
       "      <td>0.090</td>\n",
       "      <td>32.0</td>\n",
       "      <td>44.0</td>\n",
       "      <td>0.99490</td>\n",
       "      <td>3.45</td>\n",
       "      <td>0.58</td>\n",
       "      <td>10.5</td>\n",
       "      <td>5</td>\n",
       "      <td>1594</td>\n",
       "    </tr>\n",
       "    <tr>\n",
       "      <th>1141</th>\n",
       "      <td>5.9</td>\n",
       "      <td>0.550</td>\n",
       "      <td>0.10</td>\n",
       "      <td>2.2</td>\n",
       "      <td>0.062</td>\n",
       "      <td>39.0</td>\n",
       "      <td>51.0</td>\n",
       "      <td>0.99512</td>\n",
       "      <td>3.52</td>\n",
       "      <td>0.76</td>\n",
       "      <td>11.2</td>\n",
       "      <td>6</td>\n",
       "      <td>1595</td>\n",
       "    </tr>\n",
       "    <tr>\n",
       "      <th>1142</th>\n",
       "      <td>5.9</td>\n",
       "      <td>0.645</td>\n",
       "      <td>0.12</td>\n",
       "      <td>2.0</td>\n",
       "      <td>0.075</td>\n",
       "      <td>32.0</td>\n",
       "      <td>44.0</td>\n",
       "      <td>0.99547</td>\n",
       "      <td>3.57</td>\n",
       "      <td>0.71</td>\n",
       "      <td>10.2</td>\n",
       "      <td>5</td>\n",
       "      <td>1597</td>\n",
       "    </tr>\n",
       "  </tbody>\n",
       "</table>\n",
       "</div>"
      ],
      "text/plain": [
       "      fixed acidity  volatile acidity  citric acid  residual sugar  chlorides  \\\n",
       "1138            6.3             0.510         0.13             2.3      0.076   \n",
       "1139            6.8             0.620         0.08             1.9      0.068   \n",
       "1140            6.2             0.600         0.08             2.0      0.090   \n",
       "1141            5.9             0.550         0.10             2.2      0.062   \n",
       "1142            5.9             0.645         0.12             2.0      0.075   \n",
       "\n",
       "      free sulfur dioxide  total sulfur dioxide  density    pH  sulphates  \\\n",
       "1138                 29.0                  40.0  0.99574  3.42       0.75   \n",
       "1139                 28.0                  38.0  0.99651  3.42       0.82   \n",
       "1140                 32.0                  44.0  0.99490  3.45       0.58   \n",
       "1141                 39.0                  51.0  0.99512  3.52       0.76   \n",
       "1142                 32.0                  44.0  0.99547  3.57       0.71   \n",
       "\n",
       "      alcohol  quality    Id  \n",
       "1138     11.0        6  1592  \n",
       "1139      9.5        6  1593  \n",
       "1140     10.5        5  1594  \n",
       "1141     11.2        6  1595  \n",
       "1142     10.2        5  1597  "
      ]
     },
     "execution_count": 5,
     "metadata": {},
     "output_type": "execute_result"
    }
   ],
   "source": [
    "df.tail()"
   ]
  },
  {
   "cell_type": "code",
   "execution_count": 6,
   "id": "53fcc5f8",
   "metadata": {
    "execution": {
     "iopub.execute_input": "2024-01-05T01:10:17.898140Z",
     "iopub.status.busy": "2024-01-05T01:10:17.896652Z",
     "iopub.status.idle": "2024-01-05T01:10:17.907475Z",
     "shell.execute_reply": "2024-01-05T01:10:17.906130Z"
    },
    "papermill": {
     "duration": 0.027828,
     "end_time": "2024-01-05T01:10:17.910257",
     "exception": false,
     "start_time": "2024-01-05T01:10:17.882429",
     "status": "completed"
    },
    "scrolled": false,
    "tags": []
   },
   "outputs": [
    {
     "data": {
      "text/plain": [
       "fixed acidity           float64\n",
       "volatile acidity        float64\n",
       "citric acid             float64\n",
       "residual sugar          float64\n",
       "chlorides               float64\n",
       "free sulfur dioxide     float64\n",
       "total sulfur dioxide    float64\n",
       "density                 float64\n",
       "pH                      float64\n",
       "sulphates               float64\n",
       "alcohol                 float64\n",
       "quality                   int64\n",
       "Id                        int64\n",
       "dtype: object"
      ]
     },
     "execution_count": 6,
     "metadata": {},
     "output_type": "execute_result"
    }
   ],
   "source": [
    "df.dtypes"
   ]
  },
  {
   "cell_type": "markdown",
   "id": "1b691f45",
   "metadata": {
    "papermill": {
     "duration": 0.01287,
     "end_time": "2024-01-05T01:10:17.936922",
     "exception": false,
     "start_time": "2024-01-05T01:10:17.924052",
     "status": "completed"
    },
    "tags": []
   },
   "source": [
    "The dataset does not contain categorical values and only consists of numerical values."
   ]
  },
  {
   "cell_type": "code",
   "execution_count": 7,
   "id": "cc9247dd",
   "metadata": {
    "execution": {
     "iopub.execute_input": "2024-01-05T01:10:17.966762Z",
     "iopub.status.busy": "2024-01-05T01:10:17.965340Z",
     "iopub.status.idle": "2024-01-05T01:10:17.974478Z",
     "shell.execute_reply": "2024-01-05T01:10:17.972463Z"
    },
    "papermill": {
     "duration": 0.036373,
     "end_time": "2024-01-05T01:10:17.987482",
     "exception": false,
     "start_time": "2024-01-05T01:10:17.951109",
     "status": "completed"
    },
    "scrolled": true,
    "tags": []
   },
   "outputs": [
    {
     "data": {
      "text/html": [
       "<div>\n",
       "<style scoped>\n",
       "    .dataframe tbody tr th:only-of-type {\n",
       "        vertical-align: middle;\n",
       "    }\n",
       "\n",
       "    .dataframe tbody tr th {\n",
       "        vertical-align: top;\n",
       "    }\n",
       "\n",
       "    .dataframe thead th {\n",
       "        text-align: right;\n",
       "    }\n",
       "</style>\n",
       "<table border=\"1\" class=\"dataframe\">\n",
       "  <thead>\n",
       "    <tr style=\"text-align: right;\">\n",
       "      <th></th>\n",
       "      <th>fixed acidity</th>\n",
       "      <th>volatile acidity</th>\n",
       "      <th>citric acid</th>\n",
       "      <th>residual sugar</th>\n",
       "      <th>chlorides</th>\n",
       "      <th>free sulfur dioxide</th>\n",
       "      <th>total sulfur dioxide</th>\n",
       "      <th>density</th>\n",
       "      <th>pH</th>\n",
       "      <th>sulphates</th>\n",
       "      <th>alcohol</th>\n",
       "      <th>quality</th>\n",
       "      <th>Id</th>\n",
       "    </tr>\n",
       "  </thead>\n",
       "  <tbody>\n",
       "    <tr>\n",
       "      <th>count</th>\n",
       "      <td>1143.000000</td>\n",
       "      <td>1143.000000</td>\n",
       "      <td>1143.000000</td>\n",
       "      <td>1143.000000</td>\n",
       "      <td>1143.000000</td>\n",
       "      <td>1143.000000</td>\n",
       "      <td>1143.000000</td>\n",
       "      <td>1143.000000</td>\n",
       "      <td>1143.000000</td>\n",
       "      <td>1143.000000</td>\n",
       "      <td>1143.000000</td>\n",
       "      <td>1143.000000</td>\n",
       "      <td>1143.000000</td>\n",
       "    </tr>\n",
       "    <tr>\n",
       "      <th>mean</th>\n",
       "      <td>8.311111</td>\n",
       "      <td>0.531339</td>\n",
       "      <td>0.268364</td>\n",
       "      <td>2.532152</td>\n",
       "      <td>0.086933</td>\n",
       "      <td>15.615486</td>\n",
       "      <td>45.914698</td>\n",
       "      <td>0.996730</td>\n",
       "      <td>3.311015</td>\n",
       "      <td>0.657708</td>\n",
       "      <td>10.442111</td>\n",
       "      <td>5.657043</td>\n",
       "      <td>804.969379</td>\n",
       "    </tr>\n",
       "    <tr>\n",
       "      <th>std</th>\n",
       "      <td>1.747595</td>\n",
       "      <td>0.179633</td>\n",
       "      <td>0.196686</td>\n",
       "      <td>1.355917</td>\n",
       "      <td>0.047267</td>\n",
       "      <td>10.250486</td>\n",
       "      <td>32.782130</td>\n",
       "      <td>0.001925</td>\n",
       "      <td>0.156664</td>\n",
       "      <td>0.170399</td>\n",
       "      <td>1.082196</td>\n",
       "      <td>0.805824</td>\n",
       "      <td>463.997116</td>\n",
       "    </tr>\n",
       "    <tr>\n",
       "      <th>min</th>\n",
       "      <td>4.600000</td>\n",
       "      <td>0.120000</td>\n",
       "      <td>0.000000</td>\n",
       "      <td>0.900000</td>\n",
       "      <td>0.012000</td>\n",
       "      <td>1.000000</td>\n",
       "      <td>6.000000</td>\n",
       "      <td>0.990070</td>\n",
       "      <td>2.740000</td>\n",
       "      <td>0.330000</td>\n",
       "      <td>8.400000</td>\n",
       "      <td>3.000000</td>\n",
       "      <td>0.000000</td>\n",
       "    </tr>\n",
       "    <tr>\n",
       "      <th>25%</th>\n",
       "      <td>7.100000</td>\n",
       "      <td>0.392500</td>\n",
       "      <td>0.090000</td>\n",
       "      <td>1.900000</td>\n",
       "      <td>0.070000</td>\n",
       "      <td>7.000000</td>\n",
       "      <td>21.000000</td>\n",
       "      <td>0.995570</td>\n",
       "      <td>3.205000</td>\n",
       "      <td>0.550000</td>\n",
       "      <td>9.500000</td>\n",
       "      <td>5.000000</td>\n",
       "      <td>411.000000</td>\n",
       "    </tr>\n",
       "    <tr>\n",
       "      <th>50%</th>\n",
       "      <td>7.900000</td>\n",
       "      <td>0.520000</td>\n",
       "      <td>0.250000</td>\n",
       "      <td>2.200000</td>\n",
       "      <td>0.079000</td>\n",
       "      <td>13.000000</td>\n",
       "      <td>37.000000</td>\n",
       "      <td>0.996680</td>\n",
       "      <td>3.310000</td>\n",
       "      <td>0.620000</td>\n",
       "      <td>10.200000</td>\n",
       "      <td>6.000000</td>\n",
       "      <td>794.000000</td>\n",
       "    </tr>\n",
       "    <tr>\n",
       "      <th>75%</th>\n",
       "      <td>9.100000</td>\n",
       "      <td>0.640000</td>\n",
       "      <td>0.420000</td>\n",
       "      <td>2.600000</td>\n",
       "      <td>0.090000</td>\n",
       "      <td>21.000000</td>\n",
       "      <td>61.000000</td>\n",
       "      <td>0.997845</td>\n",
       "      <td>3.400000</td>\n",
       "      <td>0.730000</td>\n",
       "      <td>11.100000</td>\n",
       "      <td>6.000000</td>\n",
       "      <td>1209.500000</td>\n",
       "    </tr>\n",
       "    <tr>\n",
       "      <th>max</th>\n",
       "      <td>15.900000</td>\n",
       "      <td>1.580000</td>\n",
       "      <td>1.000000</td>\n",
       "      <td>15.500000</td>\n",
       "      <td>0.611000</td>\n",
       "      <td>68.000000</td>\n",
       "      <td>289.000000</td>\n",
       "      <td>1.003690</td>\n",
       "      <td>4.010000</td>\n",
       "      <td>2.000000</td>\n",
       "      <td>14.900000</td>\n",
       "      <td>8.000000</td>\n",
       "      <td>1597.000000</td>\n",
       "    </tr>\n",
       "  </tbody>\n",
       "</table>\n",
       "</div>"
      ],
      "text/plain": [
       "       fixed acidity  volatile acidity  citric acid  residual sugar  \\\n",
       "count    1143.000000       1143.000000  1143.000000     1143.000000   \n",
       "mean        8.311111          0.531339     0.268364        2.532152   \n",
       "std         1.747595          0.179633     0.196686        1.355917   \n",
       "min         4.600000          0.120000     0.000000        0.900000   \n",
       "25%         7.100000          0.392500     0.090000        1.900000   \n",
       "50%         7.900000          0.520000     0.250000        2.200000   \n",
       "75%         9.100000          0.640000     0.420000        2.600000   \n",
       "max        15.900000          1.580000     1.000000       15.500000   \n",
       "\n",
       "         chlorides  free sulfur dioxide  total sulfur dioxide      density  \\\n",
       "count  1143.000000          1143.000000           1143.000000  1143.000000   \n",
       "mean      0.086933            15.615486             45.914698     0.996730   \n",
       "std       0.047267            10.250486             32.782130     0.001925   \n",
       "min       0.012000             1.000000              6.000000     0.990070   \n",
       "25%       0.070000             7.000000             21.000000     0.995570   \n",
       "50%       0.079000            13.000000             37.000000     0.996680   \n",
       "75%       0.090000            21.000000             61.000000     0.997845   \n",
       "max       0.611000            68.000000            289.000000     1.003690   \n",
       "\n",
       "                pH    sulphates      alcohol      quality           Id  \n",
       "count  1143.000000  1143.000000  1143.000000  1143.000000  1143.000000  \n",
       "mean      3.311015     0.657708    10.442111     5.657043   804.969379  \n",
       "std       0.156664     0.170399     1.082196     0.805824   463.997116  \n",
       "min       2.740000     0.330000     8.400000     3.000000     0.000000  \n",
       "25%       3.205000     0.550000     9.500000     5.000000   411.000000  \n",
       "50%       3.310000     0.620000    10.200000     6.000000   794.000000  \n",
       "75%       3.400000     0.730000    11.100000     6.000000  1209.500000  \n",
       "max       4.010000     2.000000    14.900000     8.000000  1597.000000  "
      ]
     },
     "execution_count": 7,
     "metadata": {},
     "output_type": "execute_result"
    }
   ],
   "source": [
    "df.describe(include=\"all\")"
   ]
  },
  {
   "cell_type": "code",
   "execution_count": 8,
   "id": "68f5d42e",
   "metadata": {},
   "outputs": [
    {
     "data": {
      "text/plain": [
       "(1143, 13)"
      ]
     },
     "execution_count": 8,
     "metadata": {},
     "output_type": "execute_result"
    }
   ],
   "source": [
    "df.shape"
   ]
  },
  {
   "cell_type": "markdown",
   "id": "424256df",
   "metadata": {
    "papermill": {
     "duration": 0.017509,
     "end_time": "2024-01-05T01:10:18.021322",
     "exception": false,
     "start_time": "2024-01-05T01:10:18.003813",
     "status": "completed"
    },
    "tags": []
   },
   "source": [
    "There are 1143 data entries encompassing 13 attributes. The **target** variable is **quality**, and the column labeled Id is unnecessary, resulting in 11 relevant input features.\n",
    "\n",
    "Remove the variable, Id from the dataset."
   ]
  },
  {
   "cell_type": "code",
   "execution_count": 9,
   "id": "30c163bc",
   "metadata": {
    "execution": {
     "iopub.execute_input": "2024-01-05T01:10:18.050608Z",
     "iopub.status.busy": "2024-01-05T01:10:18.050211Z",
     "iopub.status.idle": "2024-01-05T01:10:18.064154Z",
     "shell.execute_reply": "2024-01-05T01:10:18.062753Z"
    },
    "papermill": {
     "duration": 0.03139,
     "end_time": "2024-01-05T01:10:18.067109",
     "exception": false,
     "start_time": "2024-01-05T01:10:18.035719",
     "status": "completed"
    },
    "tags": []
   },
   "outputs": [],
   "source": [
    "df=df.drop('Id', axis=1)"
   ]
  },
  {
   "cell_type": "markdown",
   "id": "458cc516",
   "metadata": {
    "papermill": {
     "duration": 0.012649,
     "end_time": "2024-01-05T01:10:18.092814",
     "exception": false,
     "start_time": "2024-01-05T01:10:18.080165",
     "status": "completed"
    },
    "tags": []
   },
   "source": [
    "**Check for duplicate entries**"
   ]
  },
  {
   "cell_type": "code",
   "execution_count": 10,
   "id": "b54694c8",
   "metadata": {
    "execution": {
     "iopub.execute_input": "2024-01-05T01:10:18.120548Z",
     "iopub.status.busy": "2024-01-05T01:10:18.120160Z",
     "iopub.status.idle": "2024-01-05T01:10:18.161560Z",
     "shell.execute_reply": "2024-01-05T01:10:18.160270Z"
    },
    "papermill": {
     "duration": 0.058935,
     "end_time": "2024-01-05T01:10:18.164592",
     "exception": false,
     "start_time": "2024-01-05T01:10:18.105657",
     "status": "completed"
    },
    "tags": []
   },
   "outputs": [
    {
     "data": {
      "text/html": [
       "<div>\n",
       "<style scoped>\n",
       "    .dataframe tbody tr th:only-of-type {\n",
       "        vertical-align: middle;\n",
       "    }\n",
       "\n",
       "    .dataframe tbody tr th {\n",
       "        vertical-align: top;\n",
       "    }\n",
       "\n",
       "    .dataframe thead th {\n",
       "        text-align: right;\n",
       "    }\n",
       "</style>\n",
       "<table border=\"1\" class=\"dataframe\">\n",
       "  <thead>\n",
       "    <tr style=\"text-align: right;\">\n",
       "      <th></th>\n",
       "      <th>fixed acidity</th>\n",
       "      <th>volatile acidity</th>\n",
       "      <th>citric acid</th>\n",
       "      <th>residual sugar</th>\n",
       "      <th>chlorides</th>\n",
       "      <th>free sulfur dioxide</th>\n",
       "      <th>total sulfur dioxide</th>\n",
       "      <th>density</th>\n",
       "      <th>pH</th>\n",
       "      <th>sulphates</th>\n",
       "      <th>alcohol</th>\n",
       "      <th>quality</th>\n",
       "    </tr>\n",
       "  </thead>\n",
       "  <tbody>\n",
       "    <tr>\n",
       "      <th>4</th>\n",
       "      <td>7.4</td>\n",
       "      <td>0.700</td>\n",
       "      <td>0.00</td>\n",
       "      <td>1.90</td>\n",
       "      <td>0.076</td>\n",
       "      <td>11.0</td>\n",
       "      <td>34.0</td>\n",
       "      <td>0.99780</td>\n",
       "      <td>3.51</td>\n",
       "      <td>0.56</td>\n",
       "      <td>9.4</td>\n",
       "      <td>5</td>\n",
       "    </tr>\n",
       "    <tr>\n",
       "      <th>46</th>\n",
       "      <td>7.2</td>\n",
       "      <td>0.725</td>\n",
       "      <td>0.05</td>\n",
       "      <td>4.65</td>\n",
       "      <td>0.086</td>\n",
       "      <td>4.0</td>\n",
       "      <td>11.0</td>\n",
       "      <td>0.99620</td>\n",
       "      <td>3.41</td>\n",
       "      <td>0.39</td>\n",
       "      <td>10.9</td>\n",
       "      <td>5</td>\n",
       "    </tr>\n",
       "    <tr>\n",
       "      <th>64</th>\n",
       "      <td>8.6</td>\n",
       "      <td>0.490</td>\n",
       "      <td>0.28</td>\n",
       "      <td>1.90</td>\n",
       "      <td>0.110</td>\n",
       "      <td>20.0</td>\n",
       "      <td>136.0</td>\n",
       "      <td>0.99720</td>\n",
       "      <td>2.93</td>\n",
       "      <td>1.95</td>\n",
       "      <td>9.9</td>\n",
       "      <td>6</td>\n",
       "    </tr>\n",
       "    <tr>\n",
       "      <th>65</th>\n",
       "      <td>7.7</td>\n",
       "      <td>0.490</td>\n",
       "      <td>0.26</td>\n",
       "      <td>1.90</td>\n",
       "      <td>0.062</td>\n",
       "      <td>9.0</td>\n",
       "      <td>31.0</td>\n",
       "      <td>0.99660</td>\n",
       "      <td>3.39</td>\n",
       "      <td>0.64</td>\n",
       "      <td>9.6</td>\n",
       "      <td>5</td>\n",
       "    </tr>\n",
       "    <tr>\n",
       "      <th>71</th>\n",
       "      <td>8.1</td>\n",
       "      <td>0.545</td>\n",
       "      <td>0.18</td>\n",
       "      <td>1.90</td>\n",
       "      <td>0.080</td>\n",
       "      <td>13.0</td>\n",
       "      <td>35.0</td>\n",
       "      <td>0.99720</td>\n",
       "      <td>3.30</td>\n",
       "      <td>0.59</td>\n",
       "      <td>9.0</td>\n",
       "      <td>6</td>\n",
       "    </tr>\n",
       "    <tr>\n",
       "      <th>...</th>\n",
       "      <td>...</td>\n",
       "      <td>...</td>\n",
       "      <td>...</td>\n",
       "      <td>...</td>\n",
       "      <td>...</td>\n",
       "      <td>...</td>\n",
       "      <td>...</td>\n",
       "      <td>...</td>\n",
       "      <td>...</td>\n",
       "      <td>...</td>\n",
       "      <td>...</td>\n",
       "      <td>...</td>\n",
       "    </tr>\n",
       "    <tr>\n",
       "      <th>1076</th>\n",
       "      <td>7.5</td>\n",
       "      <td>0.380</td>\n",
       "      <td>0.57</td>\n",
       "      <td>2.30</td>\n",
       "      <td>0.106</td>\n",
       "      <td>5.0</td>\n",
       "      <td>12.0</td>\n",
       "      <td>0.99605</td>\n",
       "      <td>3.36</td>\n",
       "      <td>0.55</td>\n",
       "      <td>11.4</td>\n",
       "      <td>6</td>\n",
       "    </tr>\n",
       "    <tr>\n",
       "      <th>1113</th>\n",
       "      <td>7.8</td>\n",
       "      <td>0.600</td>\n",
       "      <td>0.26</td>\n",
       "      <td>2.00</td>\n",
       "      <td>0.080</td>\n",
       "      <td>31.0</td>\n",
       "      <td>131.0</td>\n",
       "      <td>0.99622</td>\n",
       "      <td>3.21</td>\n",
       "      <td>0.52</td>\n",
       "      <td>9.9</td>\n",
       "      <td>5</td>\n",
       "    </tr>\n",
       "    <tr>\n",
       "      <th>1114</th>\n",
       "      <td>7.8</td>\n",
       "      <td>0.600</td>\n",
       "      <td>0.26</td>\n",
       "      <td>2.00</td>\n",
       "      <td>0.080</td>\n",
       "      <td>31.0</td>\n",
       "      <td>131.0</td>\n",
       "      <td>0.99622</td>\n",
       "      <td>3.21</td>\n",
       "      <td>0.52</td>\n",
       "      <td>9.9</td>\n",
       "      <td>5</td>\n",
       "    </tr>\n",
       "    <tr>\n",
       "      <th>1116</th>\n",
       "      <td>7.2</td>\n",
       "      <td>0.695</td>\n",
       "      <td>0.13</td>\n",
       "      <td>2.00</td>\n",
       "      <td>0.076</td>\n",
       "      <td>12.0</td>\n",
       "      <td>20.0</td>\n",
       "      <td>0.99546</td>\n",
       "      <td>3.29</td>\n",
       "      <td>0.54</td>\n",
       "      <td>10.1</td>\n",
       "      <td>5</td>\n",
       "    </tr>\n",
       "    <tr>\n",
       "      <th>1119</th>\n",
       "      <td>7.2</td>\n",
       "      <td>0.695</td>\n",
       "      <td>0.13</td>\n",
       "      <td>2.00</td>\n",
       "      <td>0.076</td>\n",
       "      <td>12.0</td>\n",
       "      <td>20.0</td>\n",
       "      <td>0.99546</td>\n",
       "      <td>3.29</td>\n",
       "      <td>0.54</td>\n",
       "      <td>10.1</td>\n",
       "      <td>5</td>\n",
       "    </tr>\n",
       "  </tbody>\n",
       "</table>\n",
       "<p>125 rows × 12 columns</p>\n",
       "</div>"
      ],
      "text/plain": [
       "      fixed acidity  volatile acidity  citric acid  residual sugar  chlorides  \\\n",
       "4               7.4             0.700         0.00            1.90      0.076   \n",
       "46              7.2             0.725         0.05            4.65      0.086   \n",
       "64              8.6             0.490         0.28            1.90      0.110   \n",
       "65              7.7             0.490         0.26            1.90      0.062   \n",
       "71              8.1             0.545         0.18            1.90      0.080   \n",
       "...             ...               ...          ...             ...        ...   \n",
       "1076            7.5             0.380         0.57            2.30      0.106   \n",
       "1113            7.8             0.600         0.26            2.00      0.080   \n",
       "1114            7.8             0.600         0.26            2.00      0.080   \n",
       "1116            7.2             0.695         0.13            2.00      0.076   \n",
       "1119            7.2             0.695         0.13            2.00      0.076   \n",
       "\n",
       "      free sulfur dioxide  total sulfur dioxide  density    pH  sulphates  \\\n",
       "4                    11.0                  34.0  0.99780  3.51       0.56   \n",
       "46                    4.0                  11.0  0.99620  3.41       0.39   \n",
       "64                   20.0                 136.0  0.99720  2.93       1.95   \n",
       "65                    9.0                  31.0  0.99660  3.39       0.64   \n",
       "71                   13.0                  35.0  0.99720  3.30       0.59   \n",
       "...                   ...                   ...      ...   ...        ...   \n",
       "1076                  5.0                  12.0  0.99605  3.36       0.55   \n",
       "1113                 31.0                 131.0  0.99622  3.21       0.52   \n",
       "1114                 31.0                 131.0  0.99622  3.21       0.52   \n",
       "1116                 12.0                  20.0  0.99546  3.29       0.54   \n",
       "1119                 12.0                  20.0  0.99546  3.29       0.54   \n",
       "\n",
       "      alcohol  quality  \n",
       "4         9.4        5  \n",
       "46       10.9        5  \n",
       "64        9.9        6  \n",
       "65        9.6        5  \n",
       "71        9.0        6  \n",
       "...       ...      ...  \n",
       "1076     11.4        6  \n",
       "1113      9.9        5  \n",
       "1114      9.9        5  \n",
       "1116     10.1        5  \n",
       "1119     10.1        5  \n",
       "\n",
       "[125 rows x 12 columns]"
      ]
     },
     "execution_count": 10,
     "metadata": {},
     "output_type": "execute_result"
    }
   ],
   "source": [
    "duplicate_rows = df[df.duplicated()]\n",
    "duplicate_rows"
   ]
  },
  {
   "cell_type": "markdown",
   "id": "ff54b0e0",
   "metadata": {
    "papermill": {
     "duration": 0.012884,
     "end_time": "2024-01-05T01:10:18.190996",
     "exception": false,
     "start_time": "2024-01-05T01:10:18.178112",
     "status": "completed"
    },
    "tags": []
   },
   "source": [
    "The output indicates that there are duplicate entries in the dataset. For example, the rows with index 1116 and 1119 are identical across all columns.\n",
    "\n",
    " Remove them. "
   ]
  },
  {
   "cell_type": "code",
   "execution_count": 11,
   "id": "2c00453a",
   "metadata": {
    "execution": {
     "iopub.execute_input": "2024-01-05T01:10:18.221200Z",
     "iopub.status.busy": "2024-01-05T01:10:18.220761Z",
     "iopub.status.idle": "2024-01-05T01:10:18.229500Z",
     "shell.execute_reply": "2024-01-05T01:10:18.228166Z"
    },
    "papermill": {
     "duration": 0.026922,
     "end_time": "2024-01-05T01:10:18.232361",
     "exception": false,
     "start_time": "2024-01-05T01:10:18.205439",
     "status": "completed"
    },
    "tags": []
   },
   "outputs": [],
   "source": [
    "df = df.drop_duplicates()"
   ]
  },
  {
   "cell_type": "markdown",
   "id": "32ec2756",
   "metadata": {
    "papermill": {
     "duration": 0.013547,
     "end_time": "2024-01-05T01:10:18.260744",
     "exception": false,
     "start_time": "2024-01-05T01:10:18.247197",
     "status": "completed"
    },
    "tags": []
   },
   "source": [
    "**Check for missing values**"
   ]
  },
  {
   "cell_type": "code",
   "execution_count": 12,
   "id": "d7470ba4",
   "metadata": {
    "execution": {
     "iopub.execute_input": "2024-01-05T01:10:18.290793Z",
     "iopub.status.busy": "2024-01-05T01:10:18.290346Z",
     "iopub.status.idle": "2024-01-05T01:10:18.299019Z",
     "shell.execute_reply": "2024-01-05T01:10:18.297603Z"
    },
    "papermill": {
     "duration": 0.02789,
     "end_time": "2024-01-05T01:10:18.301946",
     "exception": false,
     "start_time": "2024-01-05T01:10:18.274056",
     "status": "completed"
    },
    "tags": []
   },
   "outputs": [
    {
     "name": "stdout",
     "output_type": "stream",
     "text": [
      "Missing values in each column:\n",
      "fixed acidity           0\n",
      "volatile acidity        0\n",
      "citric acid             0\n",
      "residual sugar          0\n",
      "chlorides               0\n",
      "free sulfur dioxide     0\n",
      "total sulfur dioxide    0\n",
      "density                 0\n",
      "pH                      0\n",
      "sulphates               0\n",
      "alcohol                 0\n",
      "quality                 0\n",
      "dtype: int64\n"
     ]
    }
   ],
   "source": [
    "missing_values = df.isnull().sum()\n",
    "print(\"Missing values in each column:\")\n",
    "print(missing_values)"
   ]
  },
  {
   "cell_type": "code",
   "execution_count": 13,
   "id": "c9101ad7",
   "metadata": {
    "execution": {
     "iopub.execute_input": "2024-01-05T01:10:18.371317Z",
     "iopub.status.busy": "2024-01-05T01:10:18.370841Z",
     "iopub.status.idle": "2024-01-05T01:10:18.378611Z",
     "shell.execute_reply": "2024-01-05T01:10:18.377278Z"
    },
    "papermill": {
     "duration": 0.025605,
     "end_time": "2024-01-05T01:10:18.381171",
     "exception": false,
     "start_time": "2024-01-05T01:10:18.355566",
     "status": "completed"
    },
    "tags": []
   },
   "outputs": [
    {
     "data": {
      "text/plain": [
       "(1018, 12)"
      ]
     },
     "execution_count": 13,
     "metadata": {},
     "output_type": "execute_result"
    }
   ],
   "source": [
    "df.shape"
   ]
  },
  {
   "cell_type": "markdown",
   "id": "27c6416e",
   "metadata": {
    "papermill": {
     "duration": 0.014669,
     "end_time": "2024-01-05T01:10:18.410862",
     "exception": false,
     "start_time": "2024-01-05T01:10:18.396193",
     "status": "completed"
    },
    "tags": []
   },
   "source": [
    "After eliminating duplicate entries and excluding the 'ID' variable, our dataset now consists of 1018 observations and 12 columns."
   ]
  },
  {
   "cell_type": "markdown",
   "id": "3e5be1ce",
   "metadata": {
    "papermill": {
     "duration": 0.01348,
     "end_time": "2024-01-05T01:10:18.438327",
     "exception": false,
     "start_time": "2024-01-05T01:10:18.424847",
     "status": "completed"
    },
    "tags": []
   },
   "source": [
    "**Summarize the data**"
   ]
  },
  {
   "cell_type": "code",
   "execution_count": 14,
   "id": "5fe32688",
   "metadata": {
    "execution": {
     "iopub.execute_input": "2024-01-05T01:10:18.534872Z",
     "iopub.status.busy": "2024-01-05T01:10:18.534392Z",
     "iopub.status.idle": "2024-01-05T01:10:18.589364Z",
     "shell.execute_reply": "2024-01-05T01:10:18.588185Z"
    },
    "papermill": {
     "duration": 0.073295,
     "end_time": "2024-01-05T01:10:18.592155",
     "exception": false,
     "start_time": "2024-01-05T01:10:18.518860",
     "status": "completed"
    },
    "tags": []
   },
   "outputs": [
    {
     "data": {
      "text/html": [
       "<div>\n",
       "<style scoped>\n",
       "    .dataframe tbody tr th:only-of-type {\n",
       "        vertical-align: middle;\n",
       "    }\n",
       "\n",
       "    .dataframe tbody tr th {\n",
       "        vertical-align: top;\n",
       "    }\n",
       "\n",
       "    .dataframe thead th {\n",
       "        text-align: right;\n",
       "    }\n",
       "</style>\n",
       "<table border=\"1\" class=\"dataframe\">\n",
       "  <thead>\n",
       "    <tr style=\"text-align: right;\">\n",
       "      <th></th>\n",
       "      <th>count</th>\n",
       "      <th>mean</th>\n",
       "      <th>std</th>\n",
       "      <th>min</th>\n",
       "      <th>25%</th>\n",
       "      <th>50%</th>\n",
       "      <th>75%</th>\n",
       "      <th>max</th>\n",
       "    </tr>\n",
       "  </thead>\n",
       "  <tbody>\n",
       "    <tr>\n",
       "      <th>fixed acidity</th>\n",
       "      <td>1018.0</td>\n",
       "      <td>8.288507</td>\n",
       "      <td>1.741324</td>\n",
       "      <td>4.60000</td>\n",
       "      <td>7.100000</td>\n",
       "      <td>7.900000</td>\n",
       "      <td>9.100000</td>\n",
       "      <td>15.90000</td>\n",
       "    </tr>\n",
       "    <tr>\n",
       "      <th>volatile acidity</th>\n",
       "      <td>1018.0</td>\n",
       "      <td>0.533541</td>\n",
       "      <td>0.183167</td>\n",
       "      <td>0.12000</td>\n",
       "      <td>0.390000</td>\n",
       "      <td>0.520000</td>\n",
       "      <td>0.645000</td>\n",
       "      <td>1.58000</td>\n",
       "    </tr>\n",
       "    <tr>\n",
       "      <th>citric acid</th>\n",
       "      <td>1018.0</td>\n",
       "      <td>0.268802</td>\n",
       "      <td>0.196229</td>\n",
       "      <td>0.00000</td>\n",
       "      <td>0.090000</td>\n",
       "      <td>0.250000</td>\n",
       "      <td>0.420000</td>\n",
       "      <td>1.00000</td>\n",
       "    </tr>\n",
       "    <tr>\n",
       "      <th>residual sugar</th>\n",
       "      <td>1018.0</td>\n",
       "      <td>2.524411</td>\n",
       "      <td>1.314850</td>\n",
       "      <td>0.90000</td>\n",
       "      <td>1.900000</td>\n",
       "      <td>2.200000</td>\n",
       "      <td>2.600000</td>\n",
       "      <td>15.50000</td>\n",
       "    </tr>\n",
       "    <tr>\n",
       "      <th>chlorides</th>\n",
       "      <td>1018.0</td>\n",
       "      <td>0.087187</td>\n",
       "      <td>0.048506</td>\n",
       "      <td>0.01200</td>\n",
       "      <td>0.070000</td>\n",
       "      <td>0.079000</td>\n",
       "      <td>0.090000</td>\n",
       "      <td>0.61100</td>\n",
       "    </tr>\n",
       "    <tr>\n",
       "      <th>free sulfur dioxide</th>\n",
       "      <td>1018.0</td>\n",
       "      <td>15.648821</td>\n",
       "      <td>10.176525</td>\n",
       "      <td>1.00000</td>\n",
       "      <td>7.000000</td>\n",
       "      <td>13.000000</td>\n",
       "      <td>21.000000</td>\n",
       "      <td>68.00000</td>\n",
       "    </tr>\n",
       "    <tr>\n",
       "      <th>total sulfur dioxide</th>\n",
       "      <td>1018.0</td>\n",
       "      <td>46.325639</td>\n",
       "      <td>33.123533</td>\n",
       "      <td>6.00000</td>\n",
       "      <td>21.000000</td>\n",
       "      <td>38.000000</td>\n",
       "      <td>62.000000</td>\n",
       "      <td>289.00000</td>\n",
       "    </tr>\n",
       "    <tr>\n",
       "      <th>density</th>\n",
       "      <td>1018.0</td>\n",
       "      <td>0.996700</td>\n",
       "      <td>0.001916</td>\n",
       "      <td>0.99007</td>\n",
       "      <td>0.995572</td>\n",
       "      <td>0.996665</td>\n",
       "      <td>0.997827</td>\n",
       "      <td>1.00369</td>\n",
       "    </tr>\n",
       "    <tr>\n",
       "      <th>pH</th>\n",
       "      <td>1018.0</td>\n",
       "      <td>3.311503</td>\n",
       "      <td>0.157775</td>\n",
       "      <td>2.74000</td>\n",
       "      <td>3.210000</td>\n",
       "      <td>3.310000</td>\n",
       "      <td>3.400000</td>\n",
       "      <td>4.01000</td>\n",
       "    </tr>\n",
       "    <tr>\n",
       "      <th>sulphates</th>\n",
       "      <td>1018.0</td>\n",
       "      <td>0.656817</td>\n",
       "      <td>0.167542</td>\n",
       "      <td>0.33000</td>\n",
       "      <td>0.550000</td>\n",
       "      <td>0.620000</td>\n",
       "      <td>0.720000</td>\n",
       "      <td>2.00000</td>\n",
       "    </tr>\n",
       "    <tr>\n",
       "      <th>alcohol</th>\n",
       "      <td>1018.0</td>\n",
       "      <td>10.452456</td>\n",
       "      <td>1.095064</td>\n",
       "      <td>8.40000</td>\n",
       "      <td>9.500000</td>\n",
       "      <td>10.200000</td>\n",
       "      <td>11.200000</td>\n",
       "      <td>14.90000</td>\n",
       "    </tr>\n",
       "    <tr>\n",
       "      <th>quality</th>\n",
       "      <td>1018.0</td>\n",
       "      <td>5.641454</td>\n",
       "      <td>0.811744</td>\n",
       "      <td>3.00000</td>\n",
       "      <td>5.000000</td>\n",
       "      <td>6.000000</td>\n",
       "      <td>6.000000</td>\n",
       "      <td>8.00000</td>\n",
       "    </tr>\n",
       "  </tbody>\n",
       "</table>\n",
       "</div>"
      ],
      "text/plain": [
       "                       count       mean        std      min        25%  \\\n",
       "fixed acidity         1018.0   8.288507   1.741324  4.60000   7.100000   \n",
       "volatile acidity      1018.0   0.533541   0.183167  0.12000   0.390000   \n",
       "citric acid           1018.0   0.268802   0.196229  0.00000   0.090000   \n",
       "residual sugar        1018.0   2.524411   1.314850  0.90000   1.900000   \n",
       "chlorides             1018.0   0.087187   0.048506  0.01200   0.070000   \n",
       "free sulfur dioxide   1018.0  15.648821  10.176525  1.00000   7.000000   \n",
       "total sulfur dioxide  1018.0  46.325639  33.123533  6.00000  21.000000   \n",
       "density               1018.0   0.996700   0.001916  0.99007   0.995572   \n",
       "pH                    1018.0   3.311503   0.157775  2.74000   3.210000   \n",
       "sulphates             1018.0   0.656817   0.167542  0.33000   0.550000   \n",
       "alcohol               1018.0  10.452456   1.095064  8.40000   9.500000   \n",
       "quality               1018.0   5.641454   0.811744  3.00000   5.000000   \n",
       "\n",
       "                            50%        75%        max  \n",
       "fixed acidity          7.900000   9.100000   15.90000  \n",
       "volatile acidity       0.520000   0.645000    1.58000  \n",
       "citric acid            0.250000   0.420000    1.00000  \n",
       "residual sugar         2.200000   2.600000   15.50000  \n",
       "chlorides              0.079000   0.090000    0.61100  \n",
       "free sulfur dioxide   13.000000  21.000000   68.00000  \n",
       "total sulfur dioxide  38.000000  62.000000  289.00000  \n",
       "density                0.996665   0.997827    1.00369  \n",
       "pH                     3.310000   3.400000    4.01000  \n",
       "sulphates              0.620000   0.720000    2.00000  \n",
       "alcohol               10.200000  11.200000   14.90000  \n",
       "quality                6.000000   6.000000    8.00000  "
      ]
     },
     "execution_count": 14,
     "metadata": {},
     "output_type": "execute_result"
    }
   ],
   "source": [
    "summary_statistics = df.describe().transpose()\n",
    "summary_statistics"
   ]
  },
  {
   "cell_type": "markdown",
   "id": "99bb95c4",
   "metadata": {
    "papermill": {
     "duration": 0.014679,
     "end_time": "2024-01-05T01:10:18.621448",
     "exception": false,
     "start_time": "2024-01-05T01:10:18.606769",
     "status": "completed"
    },
    "tags": []
   },
   "source": [
    "**Check for outliers**"
   ]
  },
  {
   "cell_type": "code",
   "execution_count": 15,
   "id": "4f22dd9b",
   "metadata": {
    "execution": {
     "iopub.execute_input": "2024-01-05T01:10:18.653210Z",
     "iopub.status.busy": "2024-01-05T01:10:18.652764Z",
     "iopub.status.idle": "2024-01-05T01:10:20.041785Z",
     "shell.execute_reply": "2024-01-05T01:10:20.040794Z"
    },
    "papermill": {
     "duration": 1.40892,
     "end_time": "2024-01-05T01:10:20.044879",
     "exception": false,
     "start_time": "2024-01-05T01:10:18.635959",
     "status": "completed"
    },
    "tags": []
   },
   "outputs": [
    {
     "data": {
      "image/png": "[encoded data removed]",
      "text/plain": [
       "<Figure size 1500x3000 with 11 Axes>"
      ]
     },
     "metadata": {},
     "output_type": "display_data"
    }
   ],
   "source": [
    "input_columns = df.columns[:-1].tolist() \n",
    "num_columns = len(input_columns)\n",
    "num_rows = (num_columns + 1) // 2\n",
    "fig, axes = plt.subplots(nrows=num_rows, ncols=2, figsize=(15, 5 * num_rows))\n",
    "axes = axes.flatten()\n",
    "for i, column in enumerate(input_columns):\n",
    "    sns.boxplot(x=df[column], ax=axes[i])\n",
    "    axes[i].set_title(column)\n",
    "    axes[i].set_xticks([])\n",
    "    axes[i].set_xticklabels([])  \n",
    "    axes[i].tick_params(axis='x', rotation=90)  \n",
    "for j in range(num_columns, num_rows * 2):\n",
    "    fig.delaxes(axes[j])\n",
    "plt.tight_layout()\n",
    "plt.show()"
   ]
  },
  {
   "cell_type": "markdown",
   "id": "a93ef72e",
   "metadata": {
    "papermill": {
     "duration": 0.01643,
     "end_time": "2024-01-05T01:10:20.078543",
     "exception": false,
     "start_time": "2024-01-05T01:10:20.062113",
     "status": "completed"
    },
    "tags": []
   },
   "source": [
    "Tukey's Method for identifying outliers and replace them with the mean"
   ]
  },
  {
   "cell_type": "code",
   "execution_count": 16,
   "id": "8fce3d8e",
   "metadata": {
    "execution": {
     "iopub.execute_input": "2024-01-05T01:10:20.113057Z",
     "iopub.status.busy": "2024-01-05T01:10:20.112331Z",
     "iopub.status.idle": "2024-01-05T01:10:20.148662Z",
     "shell.execute_reply": "2024-01-05T01:10:20.147393Z"
    },
    "papermill": {
     "duration": 0.05731,
     "end_time": "2024-01-05T01:10:20.151899",
     "exception": false,
     "start_time": "2024-01-05T01:10:20.094589",
     "status": "completed"
    },
    "tags": []
   },
   "outputs": [],
   "source": [
    "input_columns = df.columns[:-1].tolist()\n",
    "def replace_outliers_with_mean_tukey(data, column):\n",
    "    Q1 = data[column].quantile(0.25)\n",
    "    Q3 = data[column].quantile(0.75)\n",
    "    IQR = Q3 - Q1\n",
    "    lower_bound = Q1 - 1.5 * IQR\n",
    "    upper_bound = Q3 + 1.5 * IQR\n",
    "    data[column] = np.where((data[column] < lower_bound) | (data[column] > upper_bound), data[column].mean(), data[column])\n",
    "for column in input_columns:\n",
    "    if np.issubdtype(df[column].dtype, np.number): \n",
    "        replace_outliers_with_mean_tukey(df, column)"
   ]
  },
  {
   "cell_type": "markdown",
   "id": "9969fb5a",
   "metadata": {
    "papermill": {
     "duration": 0.017467,
     "end_time": "2024-01-05T01:10:20.185612",
     "exception": false,
     "start_time": "2024-01-05T01:10:20.168145",
     "status": "completed"
    },
    "tags": []
   },
   "source": [
    "Now, df contains the data with outliers replaced by the mean using Tukey's Method\n"
   ]
  },
  {
   "cell_type": "markdown",
   "id": "5423eec6",
   "metadata": {
    "papermill": {
     "duration": 0.015642,
     "end_time": "2024-01-05T01:10:20.217089",
     "exception": false,
     "start_time": "2024-01-05T01:10:20.201447",
     "status": "completed"
    },
    "tags": []
   },
   "source": [
    "**Check for correlation between variables in the dataset**"
   ]
  },
  {
   "cell_type": "code",
   "execution_count": 17,
   "id": "8d7434b8",
   "metadata": {
    "execution": {
     "iopub.execute_input": "2024-01-05T01:10:20.250349Z",
     "iopub.status.busy": "2024-01-05T01:10:20.249919Z",
     "iopub.status.idle": "2024-01-05T01:10:20.995887Z",
     "shell.execute_reply": "2024-01-05T01:10:20.994669Z"
    },
    "papermill": {
     "duration": 0.766813,
     "end_time": "2024-01-05T01:10:20.999592",
     "exception": false,
     "start_time": "2024-01-05T01:10:20.232779",
     "status": "completed"
    },
    "tags": []
   },
   "outputs": [
    {
     "data": {
      "image/png": "[encoded data removed]",
      "text/plain": [
       "<Figure size 1000x800 with 2 Axes>"
      ]
     },
     "metadata": {},
     "output_type": "display_data"
    }
   ],
   "source": [
    "correlation_matrix = df.corr()\n",
    "mask = np.triu(np.ones_like(correlation_matrix, dtype=bool))\n",
    "plt.figure(figsize=(10, 8))\n",
    "sns.heatmap(correlation_matrix, mask=mask, cmap='coolwarm', annot=True, fmt=\".2f\", vmin=-1, vmax=1)\n",
    "plt.title('Correlation Heatmap')\n",
    "plt.show()"
   ]
  },
  {
   "cell_type": "markdown",
   "id": "97a1de7c",
   "metadata": {
    "papermill": {
     "duration": 0.017042,
     "end_time": "2024-01-05T01:10:21.034592",
     "exception": false,
     "start_time": "2024-01-05T01:10:21.017550",
     "status": "completed"
    },
    "tags": []
   },
   "source": [
    "There are strong correlations between variables in the dataset. For example, positive correlation between 'fixed acidity' and 'citric acid', a negative correlation between 'fixed acidity' and 'pH'.\n",
    "\n",
    "I plan to employ tree-based ensemble methods to address the challenges associated with multicollinearity."
   ]
  },
  {
   "cell_type": "markdown",
   "id": "14b9bde2",
   "metadata": {
    "papermill": {
     "duration": 0.018012,
     "end_time": "2024-01-05T01:10:21.070389",
     "exception": false,
     "start_time": "2024-01-05T01:10:21.052377",
     "status": "completed"
    },
    "tags": []
   },
   "source": [
    "**Understand the target variable, quality**"
   ]
  },
  {
   "cell_type": "code",
   "execution_count": 18,
   "id": "2cc491d3",
   "metadata": {
    "execution": {
     "iopub.execute_input": "2024-01-05T01:10:21.109094Z",
     "iopub.status.busy": "2024-01-05T01:10:21.108610Z",
     "iopub.status.idle": "2024-01-05T01:10:21.688511Z",
     "shell.execute_reply": "2024-01-05T01:10:21.687270Z"
    },
    "papermill": {
     "duration": 0.602561,
     "end_time": "2024-01-05T01:10:21.691475",
     "exception": false,
     "start_time": "2024-01-05T01:10:21.088914",
     "status": "completed"
    },
    "tags": []
   },
   "outputs": [
    {
     "data": {
      "image/png": "[encoded data removed]",
      "text/plain": [
       "<Figure size 640x480 with 1 Axes>"
      ]
     },
     "metadata": {},
     "output_type": "display_data"
    }
   ],
   "source": [
    "y = df['quality']\n",
    "sns.histplot(y, kde=True)  \n",
    "plt.title('Distribution of Quality')\n",
    "plt.xlabel('Quality')\n",
    "plt.ylabel('Frequency')\n",
    "plt.show()"
   ]
  },
  {
   "cell_type": "markdown",
   "id": "c6ff358e",
   "metadata": {
    "papermill": {
     "duration": 0.019969,
     "end_time": "2024-01-05T01:10:21.729295",
     "exception": false,
     "start_time": "2024-01-05T01:10:21.709326",
     "status": "completed"
    },
    "tags": []
   },
   "source": [
    "In the dataset, there are five quality levels ranging from 3 to 8.\n",
    "\n",
    "The highest quality is represented by the rating 8, while the lowest quality corresponds to the rating 3."
   ]
  },
  {
   "cell_type": "markdown",
   "id": "3d1eac3e",
   "metadata": {
    "papermill": {
     "duration": 0.017823,
     "end_time": "2024-01-05T01:10:21.765143",
     "exception": false,
     "start_time": "2024-01-05T01:10:21.747320",
     "status": "completed"
    },
    "tags": []
   },
   "source": [
    "# Defining the goal after EDA"
   ]
  },
  {
   "cell_type": "markdown",
   "id": "3e1d93b3",
   "metadata": {
    "papermill": {
     "duration": 0.017669,
     "end_time": "2024-01-05T01:10:21.800536",
     "exception": false,
     "start_time": "2024-01-05T01:10:21.782867",
     "status": "completed"
    },
    "tags": []
   },
   "source": [
    "Given that the target variable has distinct levels (quality ratings), this is a multi-classification problem. \n",
    "\n",
    "Each quality rating (3 to 8) represents a category, and the goal is to classify or predict the quality level for each instance in your dataset."
   ]
  },
  {
   "cell_type": "markdown",
   "id": "e69933cd",
   "metadata": {
    "papermill": {
     "duration": 0.017476,
     "end_time": "2024-01-05T01:10:21.835732",
     "exception": false,
     "start_time": "2024-01-05T01:10:21.818256",
     "status": "completed"
    },
    "tags": []
   },
   "source": [
    "Distribution pattern of target"
   ]
  },
  {
   "cell_type": "code",
   "execution_count": 19,
   "id": "b05476aa",
   "metadata": {
    "execution": {
     "iopub.execute_input": "2024-01-05T01:10:21.876101Z",
     "iopub.status.busy": "2024-01-05T01:10:21.875337Z",
     "iopub.status.idle": "2024-01-05T01:10:22.159562Z",
     "shell.execute_reply": "2024-01-05T01:10:22.158390Z"
    },
    "papermill": {
     "duration": 0.308524,
     "end_time": "2024-01-05T01:10:22.162072",
     "exception": false,
     "start_time": "2024-01-05T01:10:21.853548",
     "status": "completed"
    },
    "tags": []
   },
   "outputs": [
    {
     "data": {
      "image/png": "[encoded data removed]",
      "text/plain": [
       "<Figure size 640x480 with 1 Axes>"
      ]
     },
     "metadata": {},
     "output_type": "display_data"
    },
    {
     "name": "stdout",
     "output_type": "stream",
     "text": [
      "Count of each unique value in 'quality':\n",
      "quality\n",
      "5    433\n",
      "6    409\n",
      "7    122\n",
      "4     33\n",
      "8     15\n",
      "3      6\n",
      "Name: count, dtype: int64\n"
     ]
    }
   ],
   "source": [
    "sns.countplot(x='quality', data=df)\n",
    "plt.title('Distribution of Quality Levels')\n",
    "plt.xlabel('Quality')\n",
    "plt.ylabel('Count')\n",
    "plt.show()\n",
    "quality_counts = df['quality'].value_counts()\n",
    "print(\"Count of each unique value in 'quality':\")\n",
    "print(quality_counts)"
   ]
  },
  {
   "cell_type": "markdown",
   "id": "3ef72cc4",
   "metadata": {
    "papermill": {
     "duration": 0.019192,
     "end_time": "2024-01-05T01:10:22.201120",
     "exception": false,
     "start_time": "2024-01-05T01:10:22.181928",
     "status": "completed"
    },
    "tags": []
   },
   "source": [
    "SMOTE will be used to address class imbalance."
   ]
  },
  {
   "cell_type": "markdown",
   "id": "4b7e7a46",
   "metadata": {
    "papermill": {
     "duration": 0.020244,
     "end_time": "2024-01-05T01:10:22.240645",
     "exception": false,
     "start_time": "2024-01-05T01:10:22.220401",
     "status": "completed"
    },
    "tags": []
   },
   "source": [
    "# Build the Tree-based Models"
   ]
  },
  {
   "cell_type": "code",
   "execution_count": 20,
   "id": "779bcb90",
   "metadata": {
    "execution": {
     "iopub.execute_input": "2024-01-05T01:10:22.283024Z",
     "iopub.status.busy": "2024-01-05T01:10:22.282306Z",
     "iopub.status.idle": "2024-01-05T01:10:38.874746Z",
     "shell.execute_reply": "2024-01-05T01:10:38.872588Z"
    },
    "papermill": {
     "duration": 16.618591,
     "end_time": "2024-01-05T01:10:38.879181",
     "exception": false,
     "start_time": "2024-01-05T01:10:22.260590",
     "status": "completed"
    },
    "tags": []
   },
   "outputs": [
    {
     "name": "stdout",
     "output_type": "stream",
     "text": [
      "CatBoost Classifier Accuracy: 0.608\n",
      "RF Classifier Accuracy: 0.536\n",
      "[LightGBM] [Info] Auto-choosing col-wise multi-threading, the overhead of testing was 0.000635 seconds.\n",
      "You can set `force_col_wise=true` to remove the overhead.\n",
      "[LightGBM] [Info] Total Bins 2804\n",
      "[LightGBM] [Info] Number of data points in the train set: 2238, number of used features: 11\n",
      "[LightGBM] [Info] Start training from score -1.791759\n",
      "[LightGBM] [Info] Start training from score -1.791759\n",
      "[LightGBM] [Info] Start training from score -1.791759\n",
      "[LightGBM] [Info] Start training from score -1.791759\n",
      "[LightGBM] [Info] Start training from score -1.791759\n",
      "[LightGBM] [Info] Start training from score -1.791759\n",
      "[LightGBM] [Warning] No further splits with positive gain, best gain: -inf\n",
      "LightGBM Classifier Accuracy: 0.569\n"
     ]
    }
   ],
   "source": [
    "X = df.drop('quality', axis=1)\n",
    "y = df['quality']\n",
    "X_train, X_test, y_train, y_test = train_test_split(X, y, test_size=0.15, random_state=999)\n",
    "scaler = StandardScaler()\n",
    "X_train_scaled = scaler.fit_transform(X_train)\n",
    "X_test_scaled = scaler.transform(X_test)\n",
    "smote = SMOTE(sampling_strategy='auto', random_state=42, k_neighbors=3)\n",
    "X_train_resampled, y_train_resampled = smote.fit_resample(X_train_scaled, y_train)\n",
    "classifiers = {'CatBoost Classifier': CatBoostClassifier(verbose=False, random_state=999), 'RF Classifier': RandomForestClassifier(n_estimators=100, random_state=999), 'LightGBM Classifier': LGBMClassifier(n_estimators=100,random_state=999)}\n",
    "for name, clf in classifiers.items():\n",
    "    clf.fit(X_train_resampled, y_train_resampled)\n",
    "    y_pred = clf.predict(X_test_scaled)\n",
    "    accuracy = accuracy_score(y_test, y_pred)\n",
    "    rounded_accuracy = round(accuracy, 3)\n",
    "    print(f'{name} Accuracy: {rounded_accuracy}')"
   ]
  },
  {
   "cell_type": "markdown",
   "id": "d7c10abe",
   "metadata": {
    "papermill": {
     "duration": 0.019574,
     "end_time": "2024-01-05T01:10:38.920311",
     "exception": false,
     "start_time": "2024-01-05T01:10:38.900737",
     "status": "completed"
    },
    "tags": []
   },
   "source": [
    "# Summary"
   ]
  },
  {
   "cell_type": "markdown",
   "id": "554bc79e",
   "metadata": {
    "papermill": {
     "duration": 0.021729,
     "end_time": "2024-01-05T01:10:38.961806",
     "exception": false,
     "start_time": "2024-01-05T01:10:38.940077",
     "status": "completed"
    },
    "tags": []
   },
   "source": [
    "* Among the three tree-based models evaluated, the CatBoost Classifier exhibits the highest accuracy."
   ]
  }
 ],
 "metadata": {
  "kaggle": {
   "accelerator": "none",
   "dataSources": [
    {
     "datasetId": 1866301,
     "sourceId": 3047725,
     "sourceType": "datasetVersion"
    }
   ],
   "isGpuEnabled": false,
   "isInternetEnabled": true,
   "language": "python",
   "sourceType": "notebook"
  },
  "kernelspec": {
   "display_name": "Python 3 (ipykernel)",
   "language": "python",
   "name": "python3"
  },
  "language_info": {
   "codemirror_mode": {
    "name": "ipython",
    "version": 3
   },
   "file_extension": ".py",
   "mimetype": "text/x-python",
   "name": "python",
   "nbconvert_exporter": "python",
   "pygments_lexer": "ipython3",
   "version": "3.11.5"
  },
  "papermill": {
   "default_parameters": {},
   "duration": 31.846615,
   "end_time": "2024-01-05T01:10:40.008453",
   "environment_variables": {},
   "exception": null,
   "input_path": "__notebook__.ipynb",
   "output_path": "__notebook__.ipynb",
   "parameters": {},
   "start_time": "2024-01-05T01:10:08.161838",
   "version": "2.4.0"
  }
 },
 "nbformat": 4,
 "nbformat_minor": 5
}
